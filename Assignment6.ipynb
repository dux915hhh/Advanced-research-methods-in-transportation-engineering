{
  "nbformat": 4,
  "nbformat_minor": 0,
  "metadata": {
    "colab": {
      "provenance": []
    },
    "kernelspec": {
      "name": "python3",
      "display_name": "Python 3"
    },
    "language_info": {
      "name": "python"
    }
  },
  "cells": [
    {
      "cell_type": "code",
      "source": [
        "from google.colab import drive\n",
        "drive.mount('/content/drive')"
      ],
      "metadata": {
        "colab": {
          "base_uri": "https://localhost:8080/"
        },
        "id": "nFjzEJW11h-P",
        "outputId": "c168fb63-a7d3-4914-bd2c-a0c2de1d93ac"
      },
      "execution_count": 40,
      "outputs": [
        {
          "output_type": "stream",
          "name": "stdout",
          "text": [
            "Drive already mounted at /content/drive; to attempt to forcibly remount, call drive.mount(\"/content/drive\", force_remount=True).\n"
          ]
        }
      ]
    },
    {
      "cell_type": "code",
      "execution_count": 41,
      "metadata": {
        "id": "A3J26uZYs2RC"
      },
      "outputs": [],
      "source": [
        "import random,math\n",
        "import torch.nn as nn\n",
        "import numpy as np\n",
        "import matplotlib.pyplot as plt\n",
        "import os,torch\n",
        "import pandas as pd\n",
        "from torch.utils.data import Dataset, DataLoader\n",
        "from torchvision import transforms, utils\n",
        "from pathlib import Path\n",
        "from tqdm import tqdm\n",
        "import warnings\n",
        "warnings.filterwarnings(\"ignore\")"
      ]
    },
    {
      "cell_type": "code",
      "source": [
        "def evaluation(model_arch,dataloader_test, bs):\n",
        "    rmse = []\n",
        "    maes = []\n",
        "    ts = ToTensor()\n",
        "    for i_test,sample_test in enumerate(dataloader_test):\n",
        "        sample_test = ts(bs,sample_test)\n",
        "        preds = model_arch(sample_test['inputs'])\n",
        "        targets = sample_test['outputs']\n",
        "        error = ((preds-targets)**2).sum(1).mean().detach().numpy()\n",
        "        mae = (preds-targets).abs().sum(1).mean().detach().numpy()\n",
        "        rmse.append(math.sqrt(error))\n",
        "        maes.append(mae)\n",
        "    return {'rmse':np.mean(rmse),'mae':np.mean(maes)}"
      ],
      "metadata": {
        "id": "zliLsOptAXpq"
      },
      "execution_count": 79,
      "outputs": []
    },
    {
      "cell_type": "code",
      "source": [
        "class TrafficForecast(nn.Module):\n",
        "\n",
        "    def __init__(self,input_dim,horizon):\n",
        "        super(TrafficForecast, self).__init__()\n",
        "\n",
        "        self.linear1 = nn.Linear(input_dim, 256)\n",
        "        self.linear2 = nn.Linear(256, 128)\n",
        "        self.linear3 = nn.Linear(128, horizon)\n",
        "        self.activation = nn.ReLU()\n",
        "\n",
        "    def forward(self, x):\n",
        "        x = self.linear1(x)\n",
        "        x = self.activation(x)\n",
        "        x = self.linear2(x)\n",
        "        x = self.activation(x)\n",
        "        x = self.linear3(x)\n",
        "        return x"
      ],
      "metadata": {
        "id": "KeXryv-U3NTR"
      },
      "execution_count": 42,
      "outputs": []
    },
    {
      "cell_type": "code",
      "source": [
        "def get_zscore(x, mu,std):\n",
        "     return (x - mu)/std\n",
        "\n",
        "class TrafficDataset(Dataset):\n",
        "  def __init__(self,root_dir,csv_path,window, horizon):\n",
        "\n",
        "    ## pass normalization as an input\n",
        "    ## if user wants to transform pass normalization and to tensor.\n",
        "    ## add day of week and hour.\n",
        "    self.root_dir = Path(root_dir)\n",
        "    self.csv_path = csv_path\n",
        "\n",
        "    self.df = pd.read_csv(os.path.join(self.root_dir,self.csv_path))\n",
        "    self.df = self.df[['detector_id', 'travelway','loc', 'datetime', 'speed', 'volume', 'occupancy', 'congested']]\n",
        "    self.df['datetime'] = pd.to_datetime(self.df['datetime'])\n",
        "    for norm_cols in [('volume','volume_normal'),('occupancy','occu_normal')]:\n",
        "      self.mu = self.df[norm_cols[0]].mean()\n",
        "      self.std = self.df[norm_cols[0]].std()\n",
        "      self.df[norm_cols[1]] = self.df.apply(lambda x: get_zscore(x[norm_cols[0]], self.mu,self.std),axis=1)\n",
        "\n",
        "    self.df = self.df.sort_values(by=['datetime'])\n",
        "\n",
        "    uuids = self.df['detector_id'].unique()[0:5]\n",
        "    # self.df = self.df[self.df['detector_id'].isin(uuids)]\n",
        "    self.inputs = []\n",
        "    self.outputs = []\n",
        "    # window = 10\n",
        "    # horizon = 3\n",
        "    for uuid in uuids:\n",
        "      df_cur = self.df[self.df['detector_id'] == uuid]\n",
        "      input_output = list(df_cur['volume_normal'].values)\n",
        "      for t in range(0,len(input_output)-(window + horizon)):\n",
        "        self.inputs.append(input_output[t:t+window])\n",
        "        self.outputs.append(input_output[t+window:t+window+horizon])\n",
        "\n",
        "    # # input_output = list(self.df['volume_normal'].values)\n",
        "    # window = 10\n",
        "    # # for t in range(len(input_output)-window):\n",
        "    # self.inputs = []\n",
        "    # for t in range(0,len(input_output)-window,window):\n",
        "    #   self.inputs.append(input_output[t:t+window])\n",
        "\n",
        "    # self.inputs = self.inputs[0:-1]\n",
        "    # self.outputs = self.inputs[1:]\n",
        "    # # print (self.inputs)\n",
        "    print (len(self.inputs),len(self.outputs))\n",
        "\n",
        "  def __len__(self):\n",
        "    return len(self.inputs)\n",
        "\n",
        "  def __getitem__(self,idx):\n",
        "    X = torch.tensor(self.inputs[idx])\n",
        "    y=torch.tensor(self.outputs[idx])\n",
        "\n",
        "    return {'inputs':X,'outputs':y}\n",
        "\n",
        "class ToTensor(object):\n",
        "    def __call__(self, bs,sample):\n",
        "        input, output = sample['inputs'], sample['outputs']\n",
        "\n",
        "        return {'inputs': torch.tensor(np.array(input),dtype=torch.float32).reshape(bs,-1),\n",
        "                'outputs': torch.tensor(np.array(output),dtype=torch.float32).reshape(bs,-1)}"
      ],
      "metadata": {
        "id": "RDLh3PyBtVlJ"
      },
      "execution_count": 68,
      "outputs": []
    },
    {
      "cell_type": "code",
      "source": [
        "window = 10; horizon = 10\n",
        "traffic_obj_train = TrafficDataset('/content/drive/MyDrive/3semester/8160/hw4/data','train.csv',window, horizon)\n",
        "traffic_obj_test = TrafficDataset('/content/drive/MyDrive/3semester/8160/hw4/data','test.csv',window, horizon)"
      ],
      "metadata": {
        "colab": {
          "base_uri": "https://localhost:8080/"
        },
        "id": "YhZgAdIrtvEM",
        "outputId": "6d57ec3a-6ff6-4eee-9884-fec54d40d287"
      },
      "execution_count": 69,
      "outputs": [
        {
          "output_type": "stream",
          "name": "stdout",
          "text": [
            "41641 41641\n",
            "22290 22290\n"
          ]
        }
      ]
    },
    {
      "cell_type": "code",
      "source": [
        "# traffic_obj.df.head()"
      ],
      "metadata": {
        "id": "rETuOkVXvdCT"
      },
      "execution_count": null,
      "outputs": []
    },
    {
      "cell_type": "code",
      "source": [
        "# traffic_obj_train.df.plot(x='datetime',y='volume_normal')"
      ],
      "metadata": {
        "id": "BMjrqsJQtwTL"
      },
      "execution_count": null,
      "outputs": []
    },
    {
      "cell_type": "code",
      "source": [
        "bs = 500\n",
        "dataloader_train = DataLoader(traffic_obj_train, batch_size=bs, shuffle=False, num_workers=4,drop_last=True)\n",
        "dataloader_test = DataLoader(traffic_obj_test, batch_size=bs, shuffle=False, num_workers=4,drop_last=True)"
      ],
      "metadata": {
        "id": "qM044QK2zkN7"
      },
      "execution_count": 70,
      "outputs": []
    },
    {
      "cell_type": "code",
      "source": [
        "ts = ToTensor()\n",
        "for i, sample in enumerate(dataloader_train):\n",
        "  # print (sample)\n",
        "  print (sample['inputs'].size(),sample['outputs'].size())\n",
        "  sample = ts(bs,sample)\n",
        "  print (sample['inputs'].size(),sample['outputs'].size())\n",
        "  if i == 1:\n",
        "    break"
      ],
      "metadata": {
        "id": "1dCOQLFzzrvR",
        "colab": {
          "base_uri": "https://localhost:8080/"
        },
        "outputId": "519ec58a-207d-47b4-b7b9-da9c8fc24072"
      },
      "execution_count": 71,
      "outputs": [
        {
          "output_type": "stream",
          "name": "stdout",
          "text": [
            "torch.Size([500, 10]) torch.Size([500, 10])\n",
            "torch.Size([500, 10]) torch.Size([500, 10])\n",
            "torch.Size([500, 10]) torch.Size([500, 10])\n",
            "torch.Size([500, 10]) torch.Size([500, 10])\n"
          ]
        }
      ]
    },
    {
      "cell_type": "code",
      "source": [],
      "metadata": {
        "id": "-WxT7dcct5DE"
      },
      "execution_count": 8,
      "outputs": []
    },
    {
      "cell_type": "code",
      "source": [
        "input_dim = traffic_obj_train[0]['inputs'].shape[0]\n",
        "horizon = traffic_obj_train[0]['outputs'].shape[0]\n",
        "model = TrafficForecast(input_dim,horizon)\n",
        "# Loss and optimizer\n",
        "criterion = nn.MSELoss()\n",
        "optimizer = torch.optim.Adam(model.parameters(), lr=0.001)"
      ],
      "metadata": {
        "id": "d1Fu7TjY0rj2"
      },
      "execution_count": 72,
      "outputs": []
    },
    {
      "cell_type": "code",
      "source": [
        "print (model)"
      ],
      "metadata": {
        "colab": {
          "base_uri": "https://localhost:8080/"
        },
        "id": "lOFOuDjZ3pR5",
        "outputId": "2405cf72-41d2-4a28-b1fd-db25b95cf5ed"
      },
      "execution_count": 73,
      "outputs": [
        {
          "output_type": "stream",
          "name": "stdout",
          "text": [
            "TrafficForecast(\n",
            "  (linear1): Linear(in_features=10, out_features=256, bias=True)\n",
            "  (linear2): Linear(in_features=256, out_features=128, bias=True)\n",
            "  (linear3): Linear(in_features=128, out_features=10, bias=True)\n",
            "  (activation): ReLU()\n",
            ")\n"
          ]
        }
      ]
    },
    {
      "cell_type": "code",
      "source": [
        "mean_loss = []\n",
        "losses = []\n",
        "test_losses = []\n",
        "mean_test_loss = []\n",
        "n_epochs = 50\n",
        "ts = ToTensor()\n",
        "for it in tqdm(range(n_epochs)):\n",
        "  # zero the parameter gradients\n",
        "  for i_batch, sample_batched in enumerate(dataloader_train):\n",
        "    optimizer.zero_grad()\n",
        "    sample_batched = ts(bs,sample_batched)\n",
        "    outputs = model(sample_batched['inputs'])\n",
        "    loss = criterion(outputs, sample_batched['outputs'])\n",
        "    # print (loss)\n",
        "    losses.append(loss.item())\n",
        "\n",
        "    loss.backward()\n",
        "    optimizer.step()\n",
        "\n",
        "  for i_test,sample_test in enumerate(dataloader_test):\n",
        "      sample_test = ts(bs,sample_batched)\n",
        "      outputs = model(sample_test['inputs'])\n",
        "      test_loss = criterion(outputs, sample_test['outputs'])\n",
        "      test_losses.append(test_loss.item())\n",
        "\n",
        "  mean_loss.append(np.mean(losses))\n",
        "  mean_test_loss.append(np.mean(test_losses))\n",
        "  if (it+1) % 10 == 0:\n",
        "    print(f'Epoch {it+1}/{n_epochs}, Training Loss: {np.mean(losses):.4f}, Testing Loss: {np.mean(test_losses):.4f}')"
      ],
      "metadata": {
        "colab": {
          "base_uri": "https://localhost:8080/"
        },
        "id": "ZTH7s2IA1sWS",
        "outputId": "e812c85e-c854-4a7c-9c14-d70c5c3a4491"
      },
      "execution_count": 74,
      "outputs": [
        {
          "output_type": "stream",
          "name": "stderr",
          "text": [
            " 20%|██        | 10/50 [00:27<01:49,  2.75s/it]"
          ]
        },
        {
          "output_type": "stream",
          "name": "stdout",
          "text": [
            "Epoch 10/50, Training Loss: 0.2556, Testing Loss: 0.0939\n"
          ]
        },
        {
          "output_type": "stream",
          "name": "stderr",
          "text": [
            " 40%|████      | 20/50 [00:53<01:17,  2.58s/it]"
          ]
        },
        {
          "output_type": "stream",
          "name": "stdout",
          "text": [
            "Epoch 20/50, Training Loss: 0.2423, Testing Loss: 0.0929\n"
          ]
        },
        {
          "output_type": "stream",
          "name": "stderr",
          "text": [
            " 60%|██████    | 30/50 [01:21<00:52,  2.62s/it]"
          ]
        },
        {
          "output_type": "stream",
          "name": "stdout",
          "text": [
            "Epoch 30/50, Training Loss: 0.2349, Testing Loss: 0.0924\n"
          ]
        },
        {
          "output_type": "stream",
          "name": "stderr",
          "text": [
            " 80%|████████  | 40/50 [01:49<00:25,  2.60s/it]"
          ]
        },
        {
          "output_type": "stream",
          "name": "stdout",
          "text": [
            "Epoch 40/50, Training Loss: 0.2295, Testing Loss: 0.0920\n"
          ]
        },
        {
          "output_type": "stream",
          "name": "stderr",
          "text": [
            "100%|██████████| 50/50 [02:17<00:00,  2.74s/it]"
          ]
        },
        {
          "output_type": "stream",
          "name": "stdout",
          "text": [
            "Epoch 50/50, Training Loss: 0.2250, Testing Loss: 0.0918\n"
          ]
        },
        {
          "output_type": "stream",
          "name": "stderr",
          "text": [
            "\n"
          ]
        }
      ]
    },
    {
      "cell_type": "code",
      "source": [
        "plt.plot(losses,'k',label='training')\n",
        "plt.plot(mean_test_loss,'r',label='testing')\n",
        "plt.legend()"
      ],
      "metadata": {
        "colab": {
          "base_uri": "https://localhost:8080/",
          "height": 447
        },
        "id": "SyuNVlXI3sty",
        "outputId": "3420c200-ac9d-4532-eca9-782d5a778774"
      },
      "execution_count": 75,
      "outputs": [
        {
          "output_type": "execute_result",
          "data": {
            "text/plain": [
              "<matplotlib.legend.Legend at 0x7f984e1bbe20>"
            ]
          },
          "metadata": {},
          "execution_count": 75
        },
        {
          "output_type": "display_data",
          "data": {
            "text/plain": [
              "<Figure size 640x480 with 1 Axes>"
            ],
            "image/png": "[encoded data removed]"
          },
          "metadata": {}
        }
      ]
    },
    {
      "cell_type": "code",
      "source": [
        "plt.plot(losses,'k',label='training')\n",
        "plt.plot(test_losses,'r',label='testing')\n",
        "plt.legend()"
      ],
      "metadata": {
        "colab": {
          "base_uri": "https://localhost:8080/",
          "height": 447
        },
        "id": "26WQ1mhO3xgw",
        "outputId": "7218158b-aeaa-4718-ec4c-47788cbe7425"
      },
      "execution_count": 76,
      "outputs": [
        {
          "output_type": "execute_result",
          "data": {
            "text/plain": [
              "<matplotlib.legend.Legend at 0x7f982ca5ef50>"
            ]
          },
          "metadata": {},
          "execution_count": 76
        },
        {
          "output_type": "display_data",
          "data": {
            "text/plain": [
              "<Figure size 640x480 with 1 Axes>"
            ],
            "image/png": "[encoded data removed]"
          },
          "metadata": {}
        }
      ]
    },
    {
      "cell_type": "code",
      "source": [
        "torch.save(model.state_dict(), 'armodel.pt')"
      ],
      "metadata": {
        "id": "YrdRmdfyyJSg"
      },
      "execution_count": 77,
      "outputs": []
    },
    {
      "cell_type": "code",
      "source": [
        "model_arch = TrafficForecast(input_dim,horizon)\n",
        "model_arch.load_state_dict(torch.load('armodel.pt'))\n",
        "model_arch.eval()"
      ],
      "metadata": {
        "colab": {
          "base_uri": "https://localhost:8080/"
        },
        "id": "OVF7g1_EyJV4",
        "outputId": "0f1038c9-b046-4a7c-dd4b-c200400415d3"
      },
      "execution_count": 80,
      "outputs": [
        {
          "output_type": "execute_result",
          "data": {
            "text/plain": [
              "TrafficForecast(\n",
              "  (linear1): Linear(in_features=10, out_features=256, bias=True)\n",
              "  (linear2): Linear(in_features=256, out_features=128, bias=True)\n",
              "  (linear3): Linear(in_features=128, out_features=10, bias=True)\n",
              "  (activation): ReLU()\n",
              ")"
            ]
          },
          "metadata": {},
          "execution_count": 80
        }
      ]
    },
    {
      "cell_type": "code",
      "source": [
        "results = evaluation(model_arch,dataloader_test,bs)\n",
        "print (results)"
      ],
      "metadata": {
        "colab": {
          "base_uri": "https://localhost:8080/"
        },
        "id": "0H6GZI5o7vWK",
        "outputId": "921a597e-9e4e-4604-942b-9e3bf5d3c8f3"
      },
      "execution_count": 81,
      "outputs": [
        {
          "output_type": "stream",
          "name": "stdout",
          "text": [
            "{'rmse': 1.5058965690655897, 'mae': 3.7029676}\n"
          ]
        }
      ]
    },
    {
      "cell_type": "code",
      "source": [
        "pred_plot = []\n",
        "for i_test,sample_test in enumerate(dataloader_test):\n",
        "    sample_test = ts(bs,sample_batched)\n",
        "    preds = model_arch(sample_test['inputs'])\n",
        "    targets = sample_test['outputs']"
      ],
      "metadata": {
        "id": "rOwVHqfVyJdQ"
      },
      "execution_count": 82,
      "outputs": []
    },
    {
      "cell_type": "code",
      "source": [
        "pred_out = [x.detach().numpy() for sublist in preds for x in sublist]\n",
        "target_out = [x.detach().numpy() for sublist in targets for x in sublist]"
      ],
      "metadata": {
        "id": "8lMQLuhQyWyv"
      },
      "execution_count": 83,
      "outputs": []
    },
    {
      "cell_type": "code",
      "source": [
        "plt.plot(target_out,'r')\n",
        "plt.plot(pred_out)\n",
        "plt.ylim([-1.5,5])"
      ],
      "metadata": {
        "colab": {
          "base_uri": "https://localhost:8080/",
          "height": 452
        },
        "id": "67ocwsYf5KhB",
        "outputId": "4c4503fb-1afb-4918-eea4-3b36e48dae19"
      },
      "execution_count": 84,
      "outputs": [
        {
          "output_type": "execute_result",
          "data": {
            "text/plain": [
              "(-1.5, 5.0)"
            ]
          },
          "metadata": {},
          "execution_count": 84
        },
        {
          "output_type": "display_data",
          "data": {
            "text/plain": [
              "<Figure size 640x480 with 1 Axes>"
            ],
            "image/png": "[encoded data removed]"
          },
          "metadata": {}
        }
      ]
    },
    {
      "cell_type": "code",
      "source": [
        "plt.hist((np.array(target_out)-np.array(pred_out)))"
      ],
      "metadata": {
        "colab": {
          "base_uri": "https://localhost:8080/",
          "height": 534
        },
        "id": "yhiUnoTa4k0E",
        "outputId": "c7a2dfb0-475b-474d-89b4-caf2748f27b3"
      },
      "execution_count": 85,
      "outputs": [
        {
          "output_type": "execute_result",
          "data": {
            "text/plain": [
              "(array([  18.,   17.,   50.,  267., 1857., 2262.,  340.,  115.,   60.,\n",
              "          14.]),\n",
              " array([-1.62115598, -1.30109012, -0.98102438, -0.66095853, -0.34089273,\n",
              "        -0.02082694,  0.29923886,  0.61930466,  0.93937051,  1.25943625,\n",
              "         1.57950211]),\n",
              " <BarContainer object of 10 artists>)"
            ]
          },
          "metadata": {},
          "execution_count": 85
        },
        {
          "output_type": "display_data",
          "data": {
            "text/plain": [
              "<Figure size 640x480 with 1 Axes>"
            ],
            "image/png": "[encoded data removed]"
          },
          "metadata": {}
        }
      ]
    },
    {
      "cell_type": "code",
      "source": [
        "## in-class assignment\n",
        "## evaluate the influence of window and horizon\n",
        "#increase horizon 5 10 20\n",
        "## compare accuracy when uuids = 5, 10, 15 detetors"
      ],
      "metadata": {
        "id": "I28rV4RLT4lY"
      },
      "execution_count": null,
      "outputs": []
    }
  ]
}