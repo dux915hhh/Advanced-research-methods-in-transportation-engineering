{
  "cells": [
    {
      "cell_type": "code",
      "source": [
        "from google.colab import drive\n",
        "drive.mount('/content/drive')"
      ],
      "metadata": {
        "colab": {
          "base_uri": "https://localhost:8080/"
        },
        "id": "il2PQ_8_1ipO",
        "outputId": "6a1573f6-3360-4b6e-e720-6928364d0d6a"
      },
      "execution_count": 13,
      "outputs": [
        {
          "output_type": "stream",
          "name": "stdout",
          "text": [
            "Drive already mounted at /content/drive; to attempt to forcibly remount, call drive.mount(\"/content/drive\", force_remount=True).\n"
          ]
        }
      ]
    },
    {
      "cell_type": "code",
      "execution_count": 3,
      "metadata": {
        "id": "ecr7sqN41hsq"
      },
      "outputs": [],
      "source": [
        "import pandas as pd\n",
        "import random, math\n",
        "import torch\n",
        "import torch.nn as nn\n",
        "import numpy as np\n",
        "import matplotlib.pyplot as plt\n",
        "from sklearn.preprocessing import StandardScaler\n",
        "from scipy import fftpack\n",
        "import torch.utils.data as utils\n",
        "import os\n",
        "from sklearn.metrics import mean_absolute_percentage_error\n",
        "from torch.utils.data import Dataset, DataLoader\n",
        "from tqdm import tqdm\n",
        "from models import MyLSTM, MyGRU"
      ]
    },
    {
      "cell_type": "markdown",
      "source": [
        "window 36, 36, horizon 36"
      ],
      "metadata": {
        "id": "hKsd2gTLFp9G"
      }
    },
    {
      "cell_type": "code",
      "execution_count": 6,
      "metadata": {
        "colab": {
          "base_uri": "https://localhost:8080/"
        },
        "id": "E5fYI0QL1hsr",
        "outputId": "253b714d-a07e-404a-fa19-509a65e00175"
      },
      "outputs": [
        {
          "output_type": "stream",
          "name": "stdout",
          "text": [
            "Downloading...\n",
            "From: https://drive.google.com/uc?id=1E_qqe7kfvfApM4hCOBMPoXhyEPyrUJkN\n",
            "To: /content/train.zip\n",
            "\r  0% 0.00/8.67M [00:00<?, ?B/s]\r 12% 1.05M/8.67M [00:00<00:00, 9.91MB/s]\r100% 8.67M/8.67M [00:00<00:00, 51.4MB/s]\n"
          ]
        }
      ],
      "source": [
        "!gdown 'https://drive.google.com/uc?id=1E_qqe7kfvfApM4hCOBMPoXhyEPyrUJkN'\n"
      ]
    },
    {
      "cell_type": "code",
      "source": [
        "!gdown 'https://drive.google.com/uc?id=1j-3-lHegY--FDHKZvz86HBtilV2dsP-i'"
      ],
      "metadata": {
        "colab": {
          "base_uri": "https://localhost:8080/"
        },
        "id": "l0UvHp2H-F_B",
        "outputId": "e3a4f3db-e5f6-4d58-b270-450f879498a6"
      },
      "execution_count": 7,
      "outputs": [
        {
          "output_type": "stream",
          "name": "stdout",
          "text": [
            "Downloading...\n",
            "From: https://drive.google.com/uc?id=1j-3-lHegY--FDHKZvz86HBtilV2dsP-i\n",
            "To: /content/test.zip\n",
            "\r  0% 0.00/459k [00:00<?, ?B/s]\r100% 459k/459k [00:00<00:00, 5.61MB/s]\n"
          ]
        }
      ]
    },
    {
      "cell_type": "code",
      "execution_count": 11,
      "metadata": {
        "colab": {
          "base_uri": "https://localhost:8080/"
        },
        "id": "sOobEK8_1hsr",
        "outputId": "e54c5216-ef08-45d6-d672-fc7c45c889bc"
      },
      "outputs": [
        {
          "output_type": "stream",
          "name": "stdout",
          "text": [
            "Archive:  train.zip\n",
            "replace ./tps_df.pkl? [y]es, [n]o, [A]ll, [N]one, [r]ename: "
          ]
        }
      ],
      "source": [
        "!unzip 'train.zip' -d '.'"
      ]
    },
    {
      "cell_type": "code",
      "source": [
        "!unzip 'test.zip' -d '.'"
      ],
      "metadata": {
        "colab": {
          "base_uri": "https://localhost:8080/"
        },
        "id": "PJAxa-8E-5Qq",
        "outputId": "633ebfec-c274-4a6a-c235-d37d1954ef59"
      },
      "execution_count": 10,
      "outputs": [
        {
          "output_type": "stream",
          "name": "stdout",
          "text": [
            "Archive:  test.zip\n",
            "  inflating: ./test_data/tps_5.pkl   \n",
            "  inflating: ./test_data/tps_2.pkl   \n",
            "  inflating: ./test_data/tps_6.pkl   \n",
            "  inflating: ./test_data/tps_4.pkl   \n",
            "  inflating: ./test_data/tps_15.pkl  \n",
            "  inflating: ./test_data/tps_7.pkl   \n",
            "  inflating: ./test_data/tps_1.pkl   \n",
            "  inflating: ./test_data/tps_12.pkl  \n",
            "  inflating: ./test_data/tps_8.pkl   \n",
            "  inflating: ./test_data/tps_3.pkl   \n",
            "  inflating: ./test_data/tps_9.pkl   \n",
            "  inflating: ./test_data/tps_13.pkl  \n",
            "  inflating: ./test_data/tps_11.pkl  \n",
            "  inflating: ./test_data/tps_10.pkl  \n",
            "  inflating: ./test_data/tps_14.pkl  \n"
          ]
        }
      ]
    },
    {
      "cell_type": "code",
      "execution_count": 4,
      "metadata": {
        "id": "ehBOTTUo1hsr"
      },
      "outputs": [],
      "source": [
        "class TrafficForecast(Dataset):\n",
        "    def __init__(self,pkl_path, window, horizon):\n",
        "        self.pkl_path = pkl_path\n",
        "        self.window = window\n",
        "        self.horizon = horizon\n",
        "        self.df = None\n",
        "        self.seg_ids = None\n",
        "        self.inputs = []\n",
        "        self.targets = []\n",
        "\n",
        "\n",
        "        df = pd.read_pickle(self.pkl_path)\n",
        "        df['time'] = pd.to_datetime(df['time'])\n",
        "        df['unix_timestamp'] = df['time'].astype(int) / 10**9\n",
        "        df['dow'] = df['time'].dt.weekday\n",
        "        df['hour'] = df['time'].dt.hour\n",
        "        df['min'] = df['time'].dt.minute\n",
        "        self.df = df.sample(frac=1).reset_index(drop=True)\n",
        "        #split it into training and test 80 20\n",
        "        self.seg_ids = self.df['segmentID'].unique()\n",
        "        self.setup_forecast()\n",
        "\n",
        "    def setup_forecast(self):\n",
        "        for segid in self.seg_ids:\n",
        "            df_seg_id = self.df[self.df['segmentID'] == segid]\n",
        "            df_seg_id = df_seg_id.sort_values(by='time',ascending=True)\n",
        "            df_seg_id = df_seg_id.fillna(method=\"ffill\") # 1 nan nan nan 2, fulfill 2\n",
        "            TI_series = df_seg_id['TrafficIndex_GP'].values\n",
        "            h_series = df_seg_id['hour'].values\n",
        "            #split it into training and test 80 20\n",
        "            for t in range(0,len(TI_series)-(self.window+self.horizon)):\n",
        "                x = TI_series[t:t+self.window]\n",
        "                y = TI_series[t+self.window:(t+self.window+self.horizon)]\n",
        "                h = h_series[t:t+self.window]\n",
        "                x_cat = np.dstack([x, h])\n",
        "                self.inputs.append(x_cat)\n",
        "                self.targets.append(y)\n",
        "\n",
        "    def __len__(self):\n",
        "        return len(self.inputs)\n",
        "\n",
        "\n",
        "    def __getitem__(self,idx):\n",
        "        X = torch.tensor(self.inputs[idx],dtype=torch.float32).reshape(self.window, 2)\n",
        "        y=torch.tensor(self.targets[idx],dtype=torch.float32)\n",
        "\n",
        "        return {'inputs':X,'outputs':y}\n"
      ]
    },
    {
      "cell_type": "code",
      "source": [
        "# [123]\n",
        "# [234]\n",
        "# [345]\n",
        "# 1*36*2 hour"
      ],
      "metadata": {
        "id": "eWB7aZDTCnNZ"
      },
      "execution_count": null,
      "outputs": []
    },
    {
      "cell_type": "code",
      "execution_count": 5,
      "metadata": {
        "id": "RVxibIQW1hss"
      },
      "outputs": [],
      "source": [
        "tobj = TrafficForecast('tps_df.pkl',36,36) #window and forcast"
      ]
    },
    {
      "cell_type": "code",
      "execution_count": 6,
      "metadata": {
        "colab": {
          "base_uri": "https://localhost:8080/"
        },
        "id": "nebfVuVy1hss",
        "outputId": "80e61862-2f30-42c8-af30-d52b138dc5e2"
      },
      "outputs": [
        {
          "output_type": "stream",
          "name": "stderr",
          "text": [
            "/usr/local/lib/python3.10/dist-packages/torch/utils/data/dataloader.py:557: UserWarning: This DataLoader will create 4 worker processes in total. Our suggested max number of worker in current system is 2, which is smaller than what this DataLoader is going to create. Please be aware that excessive worker creation might get DataLoader running slow or even freeze, lower the worker number to avoid potential slowness/freeze if necessary.\n",
            "  warnings.warn(_create_warning_msg(\n"
          ]
        }
      ],
      "source": [
        "bs = 1024\n",
        "dataloader_train = DataLoader(tobj, batch_size=bs, shuffle=False, num_workers=4,drop_last=True)"
      ]
    },
    {
      "cell_type": "code",
      "execution_count": 8,
      "metadata": {
        "colab": {
          "base_uri": "https://localhost:8080/"
        },
        "id": "9YOCasEu1hss",
        "outputId": "cb0a824f-2299-4713-feff-407f2be84f72"
      },
      "outputs": [
        {
          "output_type": "stream",
          "name": "stdout",
          "text": [
            "torch.Size([1024, 36, 2]) torch.Size([1024, 36])\n",
            "torch.Size([1024, 36, 2]) torch.Size([1024, 36])\n",
            "torch.Size([1024, 36, 2]) torch.Size([1024, 36])\n",
            "torch.Size([1024, 36, 2]) torch.Size([1024, 36])\n"
          ]
        }
      ],
      "source": [
        "for idx, data in enumerate(dataloader_train):\n",
        "    print (data['inputs'].shape,data['outputs'].shape)\n",
        "    if idx == 3:\n",
        "        break\n"
      ]
    },
    {
      "cell_type": "code",
      "execution_count": 9,
      "metadata": {
        "id": "FFdWST7K1hss"
      },
      "outputs": [],
      "source": [
        "device = torch.device(\"cuda:0\" if torch.cuda.is_available() else \"cpu\")"
      ]
    },
    {
      "cell_type": "code",
      "execution_count": 11,
      "metadata": {
        "id": "-6IuJShk1hss"
      },
      "outputs": [],
      "source": [
        "model = MyLSTM(n_inputs=2, n_hidden=10, n_rnnlayers=2, n_outputs=36)\n",
        "model.to(device)\n",
        "criterion = nn.MSELoss()\n",
        "optimizer = torch.optim.Adam(model.parameters(), lr=0.001)"
      ]
    },
    {
      "cell_type": "code",
      "execution_count": 12,
      "metadata": {
        "colab": {
          "base_uri": "https://localhost:8080/"
        },
        "id": "SPbFoD_F1hss",
        "outputId": "ce0a7c96-6f98-4e3e-931c-53645adaedd5"
      },
      "outputs": [
        {
          "metadata": {
            "tags": null
          },
          "name": "stderr",
          "output_type": "stream",
          "text": [
            "  0%|          | 0/3 [00:00<?, ?it/s]/usr/local/lib/python3.10/dist-packages/torch/utils/data/dataloader.py:557: UserWarning: This DataLoader will create 4 worker processes in total. Our suggested max number of worker in current system is 2, which is smaller than what this DataLoader is going to create. Please be aware that excessive worker creation might get DataLoader running slow or even freeze, lower the worker number to avoid potential slowness/freeze if necessary.\n",
            "  warnings.warn(_create_warning_msg(\n",
            "/usr/local/lib/python3.10/dist-packages/numpy/core/fromnumeric.py:3504: RuntimeWarning: Mean of empty slice.\n",
            "  return _methods._mean(a, axis=axis, dtype=dtype,\n",
            "/usr/local/lib/python3.10/dist-packages/numpy/core/_methods.py:129: RuntimeWarning: invalid value encountered in scalar divide\n",
            "  ret = ret.dtype.type(ret / rcount)\n",
            " 33%|███▎      | 1/3 [03:01<06:03, 181.72s/it]"
          ]
        },
        {
          "metadata": {
            "tags": null
          },
          "name": "stdout",
          "output_type": "stream",
          "text": [
            "Epoch 1/3, Training Loss: 0.0542\n"
          ]
        },
        {
          "metadata": {
            "tags": null
          },
          "name": "stderr",
          "output_type": "stream",
          "text": [
            "\r 67%|██████▋   | 2/3 [06:03<03:01, 181.73s/it]"
          ]
        },
        {
          "metadata": {
            "tags": null
          },
          "name": "stdout",
          "output_type": "stream",
          "text": [
            "Epoch 2/3, Training Loss: 0.0328\n"
          ]
        },
        {
          "output_type": "stream",
          "name": "stderr",
          "text": [
            "100%|██████████| 3/3 [09:12<00:00, 184.11s/it]"
          ]
        },
        {
          "output_type": "stream",
          "name": "stdout",
          "text": [
            "Epoch 3/3, Training Loss: 0.0257\n"
          ]
        },
        {
          "output_type": "stream",
          "name": "stderr",
          "text": [
            "\n"
          ]
        }
      ],
      "source": [
        "mean_loss = []\n",
        "losses = []\n",
        "test_losses = []\n",
        "mean_test_loss = []\n",
        "n_epochs = 3\n",
        "# ts = ToTensor()\n",
        "for it in tqdm(range(n_epochs)):\n",
        "  # zero the parameter gradients\n",
        "  for i_batch, sample_batched in enumerate(dataloader_train):\n",
        "    optimizer.zero_grad()\n",
        "    outputs = model(sample_batched['inputs'].to(device))\n",
        "    loss = criterion(outputs, sample_batched['outputs'].to(device))\n",
        "    losses.append(loss.item())\n",
        "    loss.backward()\n",
        "    optimizer.step()\n",
        "\n",
        "  mean_loss.append(np.mean(losses))\n",
        "  mean_test_loss.append(np.mean(test_losses))\n",
        "  if (it+1) % 1 == 0:\n",
        "    print(f'Epoch {it+1}/{n_epochs}, Training Loss: {np.mean(losses):.4f}')"
      ]
    },
    {
      "cell_type": "code",
      "source": [
        "plt.plot(losses,'k',label='training')"
      ],
      "metadata": {
        "colab": {
          "base_uri": "https://localhost:8080/",
          "height": 447
        },
        "id": "5ee_3oWnNY_C",
        "outputId": "07cab4f3-e2ba-49d6-a2db-fa09d03eee7b"
      },
      "execution_count": 14,
      "outputs": [
        {
          "output_type": "execute_result",
          "data": {
            "text/plain": [
              "[<matplotlib.lines.Line2D at 0x7b9c7d36d2d0>]"
            ]
          },
          "metadata": {},
          "execution_count": 14
        },
        {
          "output_type": "display_data",
          "data": {
            "text/plain": [
              "<Figure size 640x480 with 1 Axes>"
            ],
            "image/png": "[encoded data removed]"
          },
          "metadata": {}
        }
      ]
    },
    {
      "cell_type": "code",
      "execution_count": 15,
      "metadata": {
        "id": "PWPEW-Gd1hst"
      },
      "outputs": [],
      "source": [
        "torch.save(model.state_dict(), 'grumodel.pt')"
      ]
    },
    {
      "cell_type": "code",
      "execution_count": 17,
      "metadata": {
        "id": "HmH2XMUn1hst"
      },
      "outputs": [],
      "source": [
        "# model_arch = SimpleGRU(n_inputs=1, n_hidden=10, n_rnnlayers=2, n_outputs=36)\n",
        "# model_arch.load_state_dict(torch.load('grumodel.pt'))\n",
        "# model_arch.eval()"
      ]
    }
  ],
  "metadata": {
    "kernelspec": {
      "display_name": "Python 3",
      "name": "python3"
    },
    "language_info": {
      "codemirror_mode": {
        "name": "ipython",
        "version": 3
      },
      "file_extension": ".py",
      "mimetype": "text/x-python",
      "name": "python",
      "nbconvert_exporter": "python",
      "pygments_lexer": "ipython3",
      "version": "3.10.0"
    },
    "orig_nbformat": 4,
    "colab": {
      "provenance": [],
      "gpuType": "T4"
    },
    "accelerator": "GPU"
  },
  "nbformat": 4,
  "nbformat_minor": 0
}