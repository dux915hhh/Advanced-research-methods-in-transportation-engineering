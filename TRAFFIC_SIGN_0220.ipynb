{
  "nbformat": 4,
  "nbformat_minor": 0,
  "metadata": {
    "colab": {
      "provenance": []
    },
    "kernelspec": {
      "name": "python3",
      "display_name": "Python 3"
    },
    "language_info": {
      "name": "python"
    }
  },
  "cells": [
    {
      "cell_type": "code",
      "execution_count": null,
      "metadata": {
        "colab": {
          "base_uri": "https://localhost:8080/"
        },
        "id": "cW7kIlWhN_xk",
        "outputId": "74fda4d0-074a-4ce4-9305-efe678d72c13"
      },
      "outputs": [
        {
          "output_type": "stream",
          "name": "stdout",
          "text": [
            "/content/drive/MyDrive/3semester/8160/hw5\n"
          ]
        }
      ],
      "source": [
        "%cd '/content/drive/MyDrive/3semester/8160/hw5/'"
      ]
    },
    {
      "cell_type": "code",
      "source": [
        "from google.colab import drive\n",
        "drive.mount('/content/drive')"
      ],
      "metadata": {
        "colab": {
          "base_uri": "https://localhost:8080/"
        },
        "id": "tyP1qaGBxFoU",
        "outputId": "3d52abe2-17d2-4718-b792-c6ce481c41d0"
      },
      "execution_count": null,
      "outputs": [
        {
          "output_type": "stream",
          "name": "stdout",
          "text": [
            "Mounted at /content/drive\n"
          ]
        }
      ]
    },
    {
      "cell_type": "code",
      "source": [
        "import torch\n",
        "import torch.nn as nn\n",
        "import matplotlib.pyplot as plt\n",
        "from skimage import io, transform\n",
        "from tqdm import tqdm\n",
        "import os\n",
        "import pandas as pd\n",
        "import numpy as np\n",
        "from torch.utils.data import Dataset, DataLoader\n",
        "from torchvision import transforms, utils\n",
        "from pathlib import Path\n",
        "import warnings\n",
        "warnings.filterwarnings(\"ignore\")\n",
        "\n",
        "from utils.model import *\n",
        "from dataset.data import *"
      ],
      "metadata": {
        "id": "DSqPkGMHPzdd"
      },
      "execution_count": 110,
      "outputs": []
    },
    {
      "cell_type": "code",
      "source": [
        "# import os\n",
        "# print (len(os.listdir('../Pytorch Introduction/data/traffic_signs_class/00029')))"
      ],
      "metadata": {
        "id": "a7WUlFgkYHmh"
      },
      "execution_count": null,
      "outputs": []
    },
    {
      "cell_type": "code",
      "source": [
        "## transform data\n",
        "class Rescale(object):\n",
        "    \"\"\"Rescale the image in a sample to a given size.\n",
        "\n",
        "    Args:\n",
        "        output_size (tuple or int): Desired output size. If tuple, output is\n",
        "            matched to output_size. If int, smaller of image edges is matched\n",
        "            to output_size keeping aspect ratio the same.\n",
        "    \"\"\"\n",
        "\n",
        "    def __init__(self, output_size):\n",
        "        assert isinstance(output_size, (int, tuple))\n",
        "        self.output_size = output_size\n",
        "\n",
        "    def __call__(self, sample):\n",
        "        image, labels = sample['image'], sample['label']\n",
        "\n",
        "        h, w = image.shape[:2]\n",
        "\n",
        "        if isinstance(self.output_size, int):\n",
        "            if h > w:\n",
        "                new_h, new_w = self.output_size * h / w, self.output_size\n",
        "            else:\n",
        "                new_h, new_w = self.output_size, self.output_size * w / h\n",
        "        else:\n",
        "            new_h, new_w = self.output_size\n",
        "\n",
        "        new_h, new_w = int(new_h), int(new_w)\n",
        "\n",
        "        img = transform.resize(image, (new_h, new_w))\n",
        "\n",
        "        return {'image': img, 'label': labels}"
      ],
      "metadata": {
        "id": "Aso068C9-lB0"
      },
      "execution_count": null,
      "outputs": []
    },
    {
      "cell_type": "code",
      "source": [
        "class traffic_sign(Dataset):\n",
        "    def __init__(self, root_dir ):\n",
        "\n",
        "        # initialize dataset variables here\n",
        "        # self.root = root_dir\n",
        "        self.root = Path(root_dir)\n",
        "        self.df = pd.DataFrame(columns = ['image_names','class_label'])\n",
        "\n",
        "        for fldr in self.root.iterdir():\n",
        "          img_names = []\n",
        "          if fldr.is_dir():\n",
        "            img_names = img_names + list(fldr.glob('*.ppm'))\n",
        "\n",
        "          img_names = [i for i in img_names]\n",
        "          df_cur = pd.DataFrame(img_names,columns = ['image_names'])\n",
        "          df_cur['class_label'] = fldr.name\n",
        "          self.df = pd.concat([self.df, df_cur],axis=0)\n",
        "\n",
        "        self.df = self.df.sample(frac=1)\n",
        "        dummies = pd.get_dummies(data = self.df, columns=['class_label'])\n",
        "        self.df = self.df.merge(dummies, on = \"image_names\")\n",
        "\n",
        "        self.df = self.df.head(300)\n",
        "        self.image_names = list(self.df['image_names'].values)\n",
        "        self.class_label = self.df.iloc[:, 2:].values.tolist()\n",
        "\n",
        "\n",
        "    def __len__(self):\n",
        "        # returns the length of the dataset\n",
        "        return len(self.image_names)\n",
        "\n",
        "    def __getitem__(self, idx):\n",
        "\n",
        "        # preprocess and transformations\n",
        "        # indexes the dataset such that dataset[i] can retrieve the ith sample.\n",
        "        if isinstance(idx, int):\n",
        "            image = self.image_names[idx]\n",
        "            scale = Rescale(256)\n",
        "            image_data = io.imread(image)\n",
        "            # image_np = Image.fromarray(image_data)\n",
        "\n",
        "            label = float(self.class_label[idx][0])\n",
        "            sample = {'image': image_data, 'label': label}\n",
        "            scale = Rescale((64,64))\n",
        "            sample = scale(sample)\n",
        "\n",
        "            # to_tensor_transform = ToTensor()\n",
        "            # sample = to_tensor_transform(sample)\n",
        "\n",
        "            return sample"
      ],
      "metadata": {
        "id": "YJCO-k8xkioF"
      },
      "execution_count": null,
      "outputs": []
    },
    {
      "cell_type": "code",
      "source": [
        "class ToTensor(object):\n",
        "    def __call__(self, sample):\n",
        "        input, output = sample['image'], sample['label']\n",
        "\n",
        "        return {'image': torch.tensor(np.array(input),dtype=torch.float32).reshape(16,-1),\n",
        "                'label': torch.tensor(output,dtype=torch.float32).reshape(16, -1)}"
      ],
      "metadata": {
        "id": "T-V6obO5BOxK"
      },
      "execution_count": null,
      "outputs": []
    },
    {
      "cell_type": "code",
      "source": [
        "# df_ = traffic_sign_dataset.df.head(300)\n",
        "# dummies = pd.get_dummies(data = df_, columns=['class_label'])\n",
        "# df_ = df_.merge(dummies, on = \"image_names\")\n",
        "# print(df_.head())"
      ],
      "metadata": {
        "id": "7NPYwqAO4pU2"
      },
      "execution_count": null,
      "outputs": []
    },
    {
      "cell_type": "code",
      "source": [
        "traffic_sign_dataset = traffic_sign('/content/drive/MyDrive/3semester/8160/hw3/data')"
      ],
      "metadata": {
        "id": "VPgcZHrIv760"
      },
      "execution_count": null,
      "outputs": []
    },
    {
      "cell_type": "code",
      "source": [
        "for i, sample in enumerate(traffic_sign_dataset):\n",
        "   print(i, sample['image'].shape, sample['label'])\n",
        "   if i == 3:\n",
        "     break"
      ],
      "metadata": {
        "colab": {
          "base_uri": "https://localhost:8080/"
        },
        "id": "kdMbyOju5iIv",
        "outputId": "0b389f78-3461-49b3-f8df-a9e40f243e12"
      },
      "execution_count": null,
      "outputs": [
        {
          "output_type": "stream",
          "name": "stdout",
          "text": [
            "0 (64, 64, 3) 1.0\n",
            "1 (64, 64, 3) 1.0\n",
            "2 (64, 64, 3) 1.0\n",
            "3 (64, 64, 3) 1.0\n"
          ]
        }
      ]
    },
    {
      "cell_type": "code",
      "source": [
        "traffic_sign_dataset[10]['image'].reshape(-1,1).shape"
      ],
      "metadata": {
        "colab": {
          "base_uri": "https://localhost:8080/"
        },
        "id": "2EY6IrooKbCC",
        "outputId": "70a56497-dafd-4492-db74-dc2fd88778df"
      },
      "execution_count": null,
      "outputs": [
        {
          "output_type": "execute_result",
          "data": {
            "text/plain": [
              "(12288, 1)"
            ]
          },
          "metadata": {},
          "execution_count": 13
        }
      ]
    },
    {
      "cell_type": "code",
      "source": [
        "traffic_sign_dataset[20]['label']"
      ],
      "metadata": {
        "colab": {
          "base_uri": "https://localhost:8080/"
        },
        "id": "zfDc-aFiPp53",
        "outputId": "64cf1cf2-dfac-474d-ce1a-0d1db9113dbe"
      },
      "execution_count": null,
      "outputs": [
        {
          "output_type": "execute_result",
          "data": {
            "text/plain": [
              "1.0"
            ]
          },
          "metadata": {},
          "execution_count": 14
        }
      ]
    },
    {
      "cell_type": "code",
      "source": [
        "plt.imshow(traffic_sign_dataset[10]['image'])"
      ],
      "metadata": {
        "colab": {
          "base_uri": "https://localhost:8080/",
          "height": 449
        },
        "id": "TBO99nxEliPn",
        "outputId": "c87b3665-0151-4820-8055-24c0bb435098"
      },
      "execution_count": null,
      "outputs": [
        {
          "output_type": "execute_result",
          "data": {
            "text/plain": [
              "<matplotlib.image.AxesImage at 0x7a6ff9b50a60>"
            ]
          },
          "metadata": {},
          "execution_count": 15
        },
        {
          "output_type": "display_data",
          "data": {
            "text/plain": [
              "<Figure size 640x480 with 1 Axes>"
            ],
            "image/png": "[encoded data removed]"
          },
          "metadata": {}
        }
      ]
    },
    {
      "cell_type": "code",
      "source": [
        "idx = 1\n",
        "sample = traffic_sign_dataset[idx]\n",
        "print(f\"Sample at index {idx}: {sample}\")"
      ],
      "metadata": {
        "colab": {
          "base_uri": "https://localhost:8080/"
        },
        "id": "2X85y1z3zPGl",
        "outputId": "4c1f8af9-1545-4d29-8644-4ca2f6e29721"
      },
      "execution_count": null,
      "outputs": [
        {
          "output_type": "stream",
          "name": "stdout",
          "text": [
            "Sample at index 1: {'image': array([[[0.3480689 , 0.29591854, 0.29331438],\n",
            "        [0.35713178, 0.30582778, 0.30669233],\n",
            "        [0.35536631, 0.30214652, 0.29926758],\n",
            "        ...,\n",
            "        [0.79233398, 0.81176088, 0.85174154],\n",
            "        [0.60412646, 0.6550044 , 0.69418275],\n",
            "        [0.51297871, 0.56365847, 0.60667318]],\n",
            "\n",
            "       [[0.31743547, 0.25844535, 0.26282648],\n",
            "        [0.31500172, 0.26180587, 0.269874  ],\n",
            "        [0.3129452 , 0.26096239, 0.26776099],\n",
            "        ...,\n",
            "        [0.78978726, 0.81030561, 0.84759402],\n",
            "        [0.6167873 , 0.66133483, 0.70029488],\n",
            "        [0.51792662, 0.56613243, 0.60914714]],\n",
            "\n",
            "       [[0.31884574, 0.25067593, 0.25472101],\n",
            "        [0.30321404, 0.24747913, 0.25345339],\n",
            "        [0.30305894, 0.25273629, 0.25840897],\n",
            "        ...,\n",
            "        [0.78757564, 0.81148897, 0.84576727],\n",
            "        [0.62678271, 0.66301509, 0.70168218],\n",
            "        [0.52432598, 0.56921147, 0.61596584]],\n",
            "\n",
            "       ...,\n",
            "\n",
            "       [[0.13171147, 0.13177179, 0.1282801 ],\n",
            "        [0.14280025, 0.14546569, 0.1549326 ],\n",
            "        [0.14047181, 0.14963235, 0.15554534],\n",
            "        ...,\n",
            "        [0.79290652, 0.81307541, 0.86389782],\n",
            "        [0.78299345, 0.80073529, 0.83588197],\n",
            "        [0.60400965, 0.63863071, 0.65480813]],\n",
            "\n",
            "       [[0.13221699, 0.13105947, 0.12639591],\n",
            "        [0.14484241, 0.14546569, 0.15458506],\n",
            "        [0.14359681, 0.14981905, 0.15665403],\n",
            "        ...,\n",
            "        [0.79763423, 0.81353784, 0.8615828 ],\n",
            "        [0.78882698, 0.79868164, 0.82964633],\n",
            "        [0.62538201, 0.64879557, 0.66109835]],\n",
            "\n",
            "       [[0.13672832, 0.13331514, 0.12625038],\n",
            "        [0.1450607 , 0.14546569, 0.15014648],\n",
            "        [0.14592525, 0.15018287, 0.15505323],\n",
            "        ...,\n",
            "        [0.79756147, 0.81150046, 0.85095933],\n",
            "        [0.78926356, 0.79467965, 0.8205509 ],\n",
            "        [0.64117168, 0.65767272, 0.66982996]]]), 'label': 1.0}\n"
          ]
        }
      ]
    },
    {
      "cell_type": "code",
      "source": [
        "# reshape(-1,1) ---> input 5000,1 || output ---> 5000,1\n",
        "# 2, 4\n",
        "# 3, 7\n",
        "# ####\n",
        "# 64 x 64 x 3 ---> 12288, 1 || output ---> 1,1\n",
        "# ---> 1, 12288 || output ---> 1,1\n",
        "\n"
      ],
      "metadata": {
        "id": "CbmWbCyaMKpy"
      },
      "execution_count": null,
      "outputs": []
    },
    {
      "cell_type": "code",
      "source": [
        "## image 64 x 64 x 3 ---> ## sign class\n",
        "\n",
        "## 12288 rows --> 12288 rows of classes.\n",
        "\n",
        "## 1 x 12288  --> 1 x 1\n",
        "\n",
        "##\n",
        "# volume --> occupancy"
      ],
      "metadata": {
        "id": "nyVMKIvKLR6_"
      },
      "execution_count": null,
      "outputs": []
    },
    {
      "cell_type": "code",
      "source": [
        "print (sample['image'].shape)"
      ],
      "metadata": {
        "colab": {
          "base_uri": "https://localhost:8080/"
        },
        "id": "KtongoZVpQMp",
        "outputId": "5853e96d-6b12-4c71-e0ab-00cbf2ee9a15"
      },
      "execution_count": null,
      "outputs": [
        {
          "output_type": "stream",
          "name": "stdout",
          "text": [
            "(64, 64, 3)\n"
          ]
        }
      ]
    },
    {
      "cell_type": "code",
      "source": [
        "## add softmax\n",
        "num_classes = 10\n",
        "model = nn.Sequential(\n",
        "        nn.Linear(12288, 256),\n",
        "        nn.ReLU(),\n",
        "        nn.Linear(256, 128),\n",
        "        nn.ReLU(),\n",
        "        nn.Linear(128, 64),\n",
        "        nn.ReLU(),\n",
        "        nn.Linear(64, num_classes),\n",
        "        nn.Softmax(dim=1)\n",
        ")"
      ],
      "metadata": {
        "id": "pOkMxsRiqYVX"
      },
      "execution_count": null,
      "outputs": []
    },
    {
      "cell_type": "code",
      "source": [
        "bs = 16\n",
        "dataloader = DataLoader(traffic_sign_dataset, batch_size=bs, shuffle=True, num_workers=4,drop_last=True)\n"
      ],
      "metadata": {
        "id": "KeZ025WOsHbz"
      },
      "execution_count": null,
      "outputs": []
    },
    {
      "cell_type": "code",
      "source": [
        "sample['image'].size()\n",
        "\n",
        "# [[1,12288],[1,12288],[1,12288]...[1,12288]]\n",
        "# [[1,1],[1,1],[1,1],,,,,[1,1]]\n"
      ],
      "metadata": {
        "id": "ID7QvIYCwe6w",
        "colab": {
          "base_uri": "https://localhost:8080/"
        },
        "outputId": "d13be03a-8899-4fe8-dd01-3f8c1a0ca531"
      },
      "execution_count": null,
      "outputs": [
        {
          "output_type": "execute_result",
          "data": {
            "text/plain": [
              "torch.Size([16, 64, 64, 3])"
            ]
          },
          "metadata": {},
          "execution_count": 70
        }
      ]
    },
    {
      "cell_type": "code",
      "source": [
        "for i, sample in enumerate(dataloader):\n",
        "  # print (sample['image'].size())\n",
        "  sample = ts(sample)\n",
        "  print (sample['image'].size(), sample['label'].size())\n",
        "  # print (sample['label'])\n",
        "  if i == 2:\n",
        "    break"
      ],
      "metadata": {
        "colab": {
          "base_uri": "https://localhost:8080/"
        },
        "id": "UiIJLQXSsgW0",
        "outputId": "b9ba44b7-c34a-42e6-8b10-a4ad56714fb6"
      },
      "execution_count": 86,
      "outputs": [
        {
          "output_type": "stream",
          "name": "stdout",
          "text": [
            "torch.Size([16, 12288]) torch.Size([16, 1])\n",
            "torch.Size([16, 12288]) torch.Size([16, 1])\n",
            "torch.Size([16, 12288]) torch.Size([16, 1])\n"
          ]
        }
      ]
    },
    {
      "cell_type": "code",
      "source": [
        "# criterion = nn.CrossEntropyLoss()\n",
        "criterion = nn.MSELoss()\n",
        "optimizer = torch.optim.Adam(model.parameters(), lr=0.001)"
      ],
      "metadata": {
        "id": "7KDt24KlubHP"
      },
      "execution_count": 77,
      "outputs": []
    },
    {
      "cell_type": "code",
      "source": [],
      "metadata": {
        "id": "67wulwzLEg9Z"
      },
      "execution_count": null,
      "outputs": []
    },
    {
      "cell_type": "code",
      "source": [
        "mean_loss = []\n",
        "losses = []\n",
        "test_losses = []\n",
        "mean_test_loss = []\n",
        "ts = ToTensor()\n",
        "n_epochs = 10\n",
        "for it in tqdm(range(n_epochs)):\n",
        "  # zero the parameter gradients\n",
        "  for i_batch, sample_batched in enumerate(dataloader):\n",
        "    optimizer.zero_grad()\n",
        "    sample_batched = ts(sample_batched)\n",
        "    outputs = model(sample_batched['image'])\n",
        "    loss = criterion(outputs, sample_batched['label'])\n",
        "    losses.append(loss.item())\n",
        "    # print (loss)\n",
        "\n",
        "    loss.backward()\n",
        "    optimizer.step()\n",
        "  mean_loss.append(np.mean(losses))\n",
        "  print(f'Epoch {it+1}/{n_epochs}, Training Loss: {np.mean(losses):.4f}')\n"
      ],
      "metadata": {
        "colab": {
          "base_uri": "https://localhost:8080/"
        },
        "id": "LZN9emwuvAbN",
        "outputId": "b50e5aab-ee23-4dbc-b6c1-9177bb10a03e"
      },
      "execution_count": 78,
      "outputs": [
        {
          "output_type": "stream",
          "name": "stderr",
          "text": [
            " 10%|█         | 1/10 [00:02<00:23,  2.58s/it]"
          ]
        },
        {
          "output_type": "stream",
          "name": "stdout",
          "text": [
            "Epoch 1/10, Training Loss: 0.6964\n"
          ]
        },
        {
          "output_type": "stream",
          "name": "stderr",
          "text": [
            "\r 20%|██        | 2/10 [00:05<00:20,  2.53s/it]"
          ]
        },
        {
          "output_type": "stream",
          "name": "stdout",
          "text": [
            "Epoch 2/10, Training Loss: 0.6990\n"
          ]
        },
        {
          "output_type": "stream",
          "name": "stderr",
          "text": [
            "\r 30%|███       | 3/10 [00:08<00:20,  2.91s/it]"
          ]
        },
        {
          "output_type": "stream",
          "name": "stdout",
          "text": [
            "Epoch 3/10, Training Loss: 0.7008\n"
          ]
        },
        {
          "output_type": "stream",
          "name": "stderr",
          "text": [
            "\r 40%|████      | 4/10 [00:11<00:17,  2.90s/it]"
          ]
        },
        {
          "output_type": "stream",
          "name": "stdout",
          "text": [
            "Epoch 4/10, Training Loss: 0.7031\n"
          ]
        },
        {
          "output_type": "stream",
          "name": "stderr",
          "text": [
            "\r 50%|█████     | 5/10 [00:13<00:13,  2.73s/it]"
          ]
        },
        {
          "output_type": "stream",
          "name": "stdout",
          "text": [
            "Epoch 5/10, Training Loss: 0.7034\n"
          ]
        },
        {
          "output_type": "stream",
          "name": "stderr",
          "text": [
            "\r 60%|██████    | 6/10 [00:16<00:10,  2.62s/it]"
          ]
        },
        {
          "output_type": "stream",
          "name": "stdout",
          "text": [
            "Epoch 6/10, Training Loss: 0.7031\n"
          ]
        },
        {
          "output_type": "stream",
          "name": "stderr",
          "text": [
            "\r 70%|███████   | 7/10 [00:18<00:07,  2.59s/it]"
          ]
        },
        {
          "output_type": "stream",
          "name": "stdout",
          "text": [
            "Epoch 7/10, Training Loss: 0.7029\n"
          ]
        },
        {
          "output_type": "stream",
          "name": "stderr",
          "text": [
            "\r 80%|████████  | 8/10 [00:22<00:05,  2.82s/it]"
          ]
        },
        {
          "output_type": "stream",
          "name": "stdout",
          "text": [
            "Epoch 8/10, Training Loss: 0.7031\n"
          ]
        },
        {
          "output_type": "stream",
          "name": "stderr",
          "text": [
            "\r 90%|█████████ | 9/10 [00:25<00:02,  2.95s/it]"
          ]
        },
        {
          "output_type": "stream",
          "name": "stdout",
          "text": [
            "Epoch 9/10, Training Loss: 0.7023\n"
          ]
        },
        {
          "output_type": "stream",
          "name": "stderr",
          "text": [
            "100%|██████████| 10/10 [00:27<00:00,  2.77s/it]"
          ]
        },
        {
          "output_type": "stream",
          "name": "stdout",
          "text": [
            "Epoch 10/10, Training Loss: 0.7025\n"
          ]
        },
        {
          "output_type": "stream",
          "name": "stderr",
          "text": [
            "\n"
          ]
        }
      ]
    },
    {
      "cell_type": "code",
      "source": [
        "plt.plot(mean_loss,'k')"
      ],
      "metadata": {
        "colab": {
          "base_uri": "https://localhost:8080/",
          "height": 447
        },
        "id": "X4775f0ZIGP7",
        "outputId": "a699dcb9-fd0b-44d8-e3df-c4f8e09f42ae"
      },
      "execution_count": 101,
      "outputs": [
        {
          "output_type": "execute_result",
          "data": {
            "text/plain": [
              "[<matplotlib.lines.Line2D at 0x7a6ff7fd1c30>]"
            ]
          },
          "metadata": {},
          "execution_count": 101
        },
        {
          "output_type": "display_data",
          "data": {
            "text/plain": [
              "<Figure size 640x480 with 1 Axes>"
            ],
            "image/png": "[encoded data removed]"
          },
          "metadata": {}
        }
      ]
    },
    {
      "cell_type": "code",
      "source": [
        "torch.save(model.state_dict(), 'traffic_model.pt')"
      ],
      "metadata": {
        "id": "xA9CwfDfAmX1"
      },
      "execution_count": 79,
      "outputs": []
    },
    {
      "cell_type": "code",
      "source": [
        "# ## load saved model\n",
        "# model_arch = nn.Sequential(\n",
        "#         nn.Linear(12288, 256),\n",
        "#         nn.ReLU(),\n",
        "#         nn.Linear(256, 128),\n",
        "#         nn.ReLU(),\n",
        "#         nn.Linear(128, 64),\n",
        "#         nn.ReLU(),\n",
        "#         nn.Linear(64, 1)\n",
        "#         )\n",
        "# model_arch.load_state_dict(torch.load('traffic_model.pt'))\n",
        "# model_arch.eval()"
      ],
      "metadata": {
        "id": "YWsGGNSXAsbj"
      },
      "execution_count": null,
      "outputs": []
    },
    {
      "cell_type": "code",
      "source": [
        "num_classes = 10\n",
        "model_arch = nn.Sequential(\n",
        "        nn.Linear(12288, 256),\n",
        "        nn.ReLU(),\n",
        "        nn.Linear(256, 128),\n",
        "        nn.ReLU(),\n",
        "        nn.Linear(128, 64),\n",
        "        nn.ReLU(),\n",
        "        nn.Linear(64, num_classes),\n",
        "        nn.Softmax(dim=1)\n",
        ")\n",
        "model_arch.load_state_dict(torch.load('traffic_model.pt'))\n",
        "model_arch.eval()"
      ],
      "metadata": {
        "colab": {
          "base_uri": "https://localhost:8080/"
        },
        "id": "5bR3Uibk2Coq",
        "outputId": "b3c11389-5e85-4eeb-8c83-e7e348e05bfc"
      },
      "execution_count": 80,
      "outputs": [
        {
          "output_type": "execute_result",
          "data": {
            "text/plain": [
              "Sequential(\n",
              "  (0): Linear(in_features=12288, out_features=256, bias=True)\n",
              "  (1): ReLU()\n",
              "  (2): Linear(in_features=256, out_features=128, bias=True)\n",
              "  (3): ReLU()\n",
              "  (4): Linear(in_features=128, out_features=64, bias=True)\n",
              "  (5): ReLU()\n",
              "  (6): Linear(in_features=64, out_features=10, bias=True)\n",
              "  (7): Softmax(dim=1)\n",
              ")"
            ]
          },
          "metadata": {},
          "execution_count": 80
        }
      ]
    },
    {
      "cell_type": "code",
      "source": [
        "ts = ToTensor()\n",
        "for i_batch, sample_batched in enumerate(dataloader):\n",
        "      sample_batched = ts(sample_batched)\n",
        "      outputs = model(sample_batched['image'])\n",
        "      output = outputs.reshape(-1).tolist()\n",
        "      target = sample_batched['label'].reshape(-1).tolist()\n",
        "      print (outputs.reshape(-1).tolist())\n",
        "      print (sample_batched['label'].reshape(-1).tolist())\n",
        "      print ('######')"
      ],
      "metadata": {
        "colab": {
          "base_uri": "https://localhost:8080/"
        },
        "id": "Y-ZPMefC0mhX",
        "outputId": "81e45253-88dd-4870-e96f-2558212872d2"
      },
      "execution_count": 102,
      "outputs": [
        {
          "output_type": "stream",
          "name": "stdout",
          "text": [
            "[0.09946425259113312, 0.09940563142299652, 0.10024988651275635, 0.10127201676368713, 0.10115958750247955, 0.0995931550860405, 0.09985420852899551, 0.10035449266433716, 0.09943465888500214, 0.09921213239431381, 0.10033943504095078, 0.09834256023168564, 0.09856222569942474, 0.09962975978851318, 0.10180562734603882, 0.10126318037509918, 0.09872310608625412, 0.10160024464130402, 0.10110758244991302, 0.0986262857913971, 0.09937039017677307, 0.09811195731163025, 0.10160643607378006, 0.10160587728023529, 0.10433153063058853, 0.09714475274085999, 0.09865791350603104, 0.10096532106399536, 0.10084889084100723, 0.0973568856716156, 0.10003241151571274, 0.0987018495798111, 0.09864018857479095, 0.10032327473163605, 0.10228981822729111, 0.10157062113285065, 0.09853216260671616, 0.10137905925512314, 0.10006524622440338, 0.09846530109643936, 0.10027775913476944, 0.09865821897983551, 0.09855939447879791, 0.09990788996219635, 0.10100405663251877, 0.10177774727344513, 0.09912613779306412, 0.10148467123508453, 0.10028807073831558, 0.09891614317893982, 0.10046466439962387, 0.09945543855428696, 0.09878616780042648, 0.09999167174100876, 0.10018832236528397, 0.1011626124382019, 0.09958998113870621, 0.10010155290365219, 0.10005687177181244, 0.10020266473293304, 0.10106165707111359, 0.09915582835674286, 0.09705494344234467, 0.0991731658577919, 0.09942275285720825, 0.10362732410430908, 0.09893722087144852, 0.0999872088432312, 0.10080581903457642, 0.10077407956123352, 0.09948804974555969, 0.09892547875642776, 0.10001356899738312, 0.1008007675409317, 0.10138613730669022, 0.10035350173711777, 0.09911366552114487, 0.10104474425315857, 0.09996283054351807, 0.09891130030155182, 0.100118488073349, 0.09829242527484894, 0.0987161174416542, 0.0998661145567894, 0.1019894927740097, 0.10218418389558792, 0.09821783006191254, 0.10186812281608582, 0.10029187798500061, 0.09845532476902008, 0.09952229261398315, 0.09800869971513748, 0.10110589861869812, 0.1012280136346817, 0.10441997647285461, 0.09806041419506073, 0.0980922281742096, 0.10123954713344574, 0.10098239779472351, 0.09734059125185013, 0.09943807125091553, 0.09930088371038437, 0.10120955854654312, 0.10120424628257751, 0.10115170478820801, 0.09837065637111664, 0.09996534883975983, 0.10012457519769669, 0.0998922660946846, 0.09934265166521072, 0.10120542347431183, 0.09801006317138672, 0.09797795861959457, 0.09819597005844116, 0.10151387006044388, 0.10160312801599503, 0.098386749625206, 0.10144606232643127, 0.10274961590766907, 0.0989111140370369, 0.09886162728071213, 0.09824572503566742, 0.10165591537952423, 0.10180138051509857, 0.10421235859394073, 0.09751183539628983, 0.0986446812748909, 0.10115969926118851, 0.10055536031723022, 0.09735136479139328, 0.10035204887390137, 0.09886904060840607, 0.09807740896940231, 0.1002809926867485, 0.1010715588927269, 0.10282594710588455, 0.09898781776428223, 0.10134252905845642, 0.09923133999109268, 0.09896134585142136, 0.1000240221619606, 0.09939638525247574, 0.09854520112276077, 0.09985119849443436, 0.10029163956642151, 0.10216019302606583, 0.09939965605735779, 0.10082408040761948, 0.09981291741132736, 0.09969468414783478, 0.10068695992231369, 0.09870810061693192, 0.09787064045667648, 0.09854347258806229, 0.10091939568519592, 0.10255496203899384, 0.09837016463279724, 0.10107005387544632, 0.10177314281463623, 0.09950307011604309]\n",
            "[1.0, 0.0, 1.0, 0.0, 0.0, 1.0, 1.0, 1.0, 1.0, 1.0, 1.0, 1.0, 1.0, 1.0, 1.0, 1.0]\n",
            "######\n",
            "[0.09936237335205078, 0.09785144031047821, 0.10082400590181351, 0.10105714946985245, 0.10368494689464569, 0.09930616617202759, 0.0979611948132515, 0.10155998170375824, 0.10062587261199951, 0.09776691347360611, 0.1006385013461113, 0.09824118763208389, 0.09837760031223297, 0.09881776571273804, 0.10157357901334763, 0.10174594819545746, 0.09860563278198242, 0.10185695439577103, 0.10153461247682571, 0.09860818088054657, 0.10038387775421143, 0.09897938370704651, 0.09801803529262543, 0.09938687831163406, 0.1003599539399147, 0.10283145308494568, 0.09902410954236984, 0.10149973630905151, 0.10033129900693893, 0.09918538480997086, 0.09925640374422073, 0.09870367497205734, 0.10145589709281921, 0.10151015967130661, 0.10297155380249023, 0.09776792675256729, 0.09926892817020416, 0.10069924592971802, 0.10021625459194183, 0.09814997762441635, 0.09935704618692398, 0.09860780090093613, 0.10030597448348999, 0.10078644007444382, 0.10273481160402298, 0.09913720190525055, 0.09919697046279907, 0.10111431777477264, 0.10054171830415726, 0.09821772575378418, 0.09948732703924179, 0.09761892259120941, 0.10140853375196457, 0.10132859647274017, 0.10521222651004791, 0.09725753962993622, 0.0980796068906784, 0.10140270739793777, 0.10138978809118271, 0.09681472927331924, 0.09925947338342667, 0.09933993965387344, 0.10138081759214401, 0.10179833322763443, 0.10147776454687119, 0.09806383401155472, 0.10002836585044861, 0.10014089196920395, 0.09946878254413605, 0.09904175251722336, 0.10139557719230652, 0.09750669449567795, 0.09718145430088043, 0.09864909201860428, 0.10190454125404358, 0.10317465662956238, 0.09772094339132309, 0.10163603723049164, 0.10190339386463165, 0.09892766922712326, 0.09972146898508072, 0.09781412780284882, 0.1006612628698349, 0.1007598489522934, 0.1044187992811203, 0.09832155704498291, 0.09812026470899582, 0.10135599970817566, 0.10148440301418304, 0.09734222292900085, 0.10017639398574829, 0.09912707656621933, 0.09893706440925598, 0.09970194846391678, 0.10049066692590714, 0.10154548287391663, 0.09922271221876144, 0.10083594173192978, 0.10031092911958694, 0.09965182095766068, 0.09973357617855072, 0.09852702915668488, 0.10043364763259888, 0.10083134472370148, 0.10265959799289703, 0.09894459694623947, 0.0989508330821991, 0.10083413869142532, 0.10070092231035233, 0.09838427603244781, 0.1007290929555893, 0.09900259226560593, 0.09739262610673904, 0.09909633547067642, 0.09960510581731796, 0.10375947505235672, 0.09869556128978729, 0.10067825019359589, 0.10066108405590057, 0.10037992894649506, 0.10060522705316544, 0.09864664822816849, 0.09922140091657639, 0.09958251565694809, 0.10131937265396118, 0.10021532326936722, 0.09917841851711273, 0.1006048396229744, 0.1013675183057785, 0.09925878047943115, 0.10019098222255707, 0.09891270101070404, 0.09834525734186172, 0.10018310695886612, 0.10058152675628662, 0.10218749195337296, 0.09889465570449829, 0.10075003653764725, 0.10035641491413116, 0.09959779679775238, 0.09956329315900803, 0.09860154241323471, 0.10073629766702652, 0.10097969323396683, 0.10245905071496964, 0.09872161597013474, 0.09918704628944397, 0.10096864402294159, 0.10047297924757004, 0.09830978512763977, 0.09958258271217346, 0.09836063534021378, 0.10079575330018997, 0.10109066218137741, 0.10337820649147034, 0.09839491546154022, 0.09874947369098663, 0.10089487582445145, 0.10073085874319077, 0.09802204370498657]\n",
            "[1.0, 1.0, 1.0, 1.0, 0.0, 1.0, 1.0, 1.0, 1.0, 1.0, 1.0, 1.0, 1.0, 1.0, 1.0, 1.0]\n",
            "######\n",
            "[0.09981643408536911, 0.09841226041316986, 0.0999414473772049, 0.10055505484342575, 0.10299891978502274, 0.09976224601268768, 0.09845592081546783, 0.10126225650310516, 0.10078895092010498, 0.09800642728805542, 0.099497489631176, 0.09774114936590195, 0.10087861120700836, 0.10109405964612961, 0.10468503832817078, 0.09808343648910522, 0.09819208830595016, 0.10151845961809158, 0.10126545280218124, 0.09704427421092987, 0.10211054980754852, 0.09842551499605179, 0.09706954658031464, 0.09777141362428665, 0.10060267150402069, 0.10253827273845673, 0.09845203906297684, 0.10090731084346771, 0.10262097418308258, 0.09950176626443863, 0.09999272227287292, 0.09889731556177139, 0.09908559918403625, 0.09997164458036423, 0.10140776634216309, 0.10136379301548004, 0.09887497127056122, 0.10109826177358627, 0.10024596750736237, 0.09906192868947983, 0.10000455379486084, 0.0990573987364769, 0.09921299666166306, 0.1008884534239769, 0.1019524559378624, 0.09985519200563431, 0.0995485931634903, 0.10065527260303497, 0.10008566826581955, 0.09873944520950317, 0.09959523379802704, 0.09953708946704865, 0.10073789209127426, 0.10128621757030487, 0.10077907145023346, 0.09882460534572601, 0.10009109228849411, 0.09978020936250687, 0.09965752065181732, 0.09971106052398682, 0.09995808452367783, 0.09887754172086716, 0.100047767162323, 0.10064446181058884, 0.10181154310703278, 0.09933141618967056, 0.09940659254789352, 0.10063160955905914, 0.10047591477632523, 0.09881504625082016, 0.09960537403821945, 0.09872539341449738, 0.1009056344628334, 0.10148254781961441, 0.10260217636823654, 0.0981953889131546, 0.09926790744066238, 0.10047712922096252, 0.10030169039964676, 0.09843672066926956, 0.09953094273805618, 0.09834644198417664, 0.10118205100297928, 0.10122525691986084, 0.10330621153116226, 0.09787019342184067, 0.09895700216293335, 0.1008819043636322, 0.10074209421873093, 0.09795798361301422, 0.09950081259012222, 0.09832091629505157, 0.10047236829996109, 0.10063255578279495, 0.10308093577623367, 0.09883201867341995, 0.0988829955458641, 0.10118155181407928, 0.10103444755077362, 0.09806130081415176, 0.09925882518291473, 0.09860888123512268, 0.10124122351408005, 0.10116291791200638, 0.10331197828054428, 0.09800353646278381, 0.09910695254802704, 0.10095777362585068, 0.10041394084692001, 0.09793394804000854, 0.0996650829911232, 0.098781056702137, 0.10085722804069519, 0.1011524423956871, 0.10228534042835236, 0.09830605983734131, 0.09936114400625229, 0.10043244063854218, 0.10049115121364594, 0.09866806864738464, 0.09999272227287292, 0.09889731556177139, 0.09908559918403625, 0.09997164458036423, 0.10140776634216309, 0.10136379301548004, 0.09887497127056122, 0.10109826177358627, 0.10024596750736237, 0.09906192868947983, 0.10031027346849442, 0.09831134974956512, 0.09845099598169327, 0.0999402329325676, 0.1014670580625534, 0.10137724131345749, 0.09855581074953079, 0.10109077394008636, 0.10165414959192276, 0.09884217381477356, 0.0995476171374321, 0.09774568676948547, 0.10109516978263855, 0.10114937275648117, 0.10479514300823212, 0.09772558510303497, 0.09815207123756409, 0.10133324563503265, 0.1013641282916069, 0.09709201008081436, 0.09995095431804657, 0.09939661622047424, 0.09982190281152725, 0.10111431032419205, 0.10047557204961777, 0.10000492632389069, 0.0997680053114891, 0.09978997707366943, 0.09964385628700256, 0.10003384202718735]\n",
            "[1.0, 1.0, 1.0, 1.0, 0.0, 1.0, 1.0, 1.0, 1.0, 0.0, 1.0, 1.0, 1.0, 0.0, 1.0, 1.0]\n",
            "######\n",
            "[0.10154025256633759, 0.09727730602025986, 0.09694938361644745, 0.09889327734708786, 0.10172277688980103, 0.10327397286891937, 0.09744774550199509, 0.1013251468539238, 0.10221453756093979, 0.09935551881790161, 0.09981592744588852, 0.09821080416440964, 0.10026158392429352, 0.10102178901433945, 0.1032489612698555, 0.09902957081794739, 0.09856775403022766, 0.10097121447324753, 0.10080166161060333, 0.09807074069976807, 0.10091312974691391, 0.09847006946802139, 0.0973098948597908, 0.09932426363229752, 0.10022582858800888, 0.10321830958127975, 0.09899277240037918, 0.10098964720964432, 0.10063695907592773, 0.09991908818483353, 0.09957987815141678, 0.09784173965454102, 0.1009947881102562, 0.10111841559410095, 0.10445176064968109, 0.09787773340940475, 0.09829896688461304, 0.10129199922084808, 0.10127796232700348, 0.09726668894290924, 0.09986567497253418, 0.09904713183641434, 0.09831275790929794, 0.10058216005563736, 0.1001039668917656, 0.10289350897073746, 0.09922990202903748, 0.10065269470214844, 0.09918816387653351, 0.1001240611076355, 0.10049226880073547, 0.09849783033132553, 0.09903746843338013, 0.09968258440494537, 0.10147782415151596, 0.10036861896514893, 0.09910297393798828, 0.1006021797657013, 0.10150662064552307, 0.09923158586025238, 0.10030408948659897, 0.09827582538127899, 0.09798701852560043, 0.10032887756824493, 0.10266079008579254, 0.10261467844247818, 0.09778472781181335, 0.10148482024669647, 0.1001041829586029, 0.09845490753650665, 0.10015586018562317, 0.09846184402704239, 0.09817110002040863, 0.0996699407696724, 0.10156886279582977, 0.10261020809412003, 0.09835510700941086, 0.10161218792200089, 0.10063818097114563, 0.09875670075416565, 0.09943224489688873, 0.09765195846557617, 0.1015496701002121, 0.1014268696308136, 0.10527816414833069, 0.09701324999332428, 0.09813271462917328, 0.10133324563503265, 0.10139720886945724, 0.09678462147712708, 0.09924326092004776, 0.09721289575099945, 0.10137906670570374, 0.10143230110406876, 0.10485279560089111, 0.09789694100618362, 0.0979943498969078, 0.10202810913324356, 0.10123267024755478, 0.09672767668962479, 0.09985268115997314, 0.09803944826126099, 0.10019633919000626, 0.10025910288095474, 0.1031617820262909, 0.09957525134086609, 0.09831689298152924, 0.10157012194395065, 0.1011943519115448, 0.0978340432047844, 0.09996053576469421, 0.09835860878229141, 0.09982643276453018, 0.10024482756853104, 0.10308787226676941, 0.09941483289003372, 0.09852632880210876, 0.10122005641460419, 0.10136858373880386, 0.0979919284582138, 0.09924633055925369, 0.098280169069767, 0.1011475995182991, 0.10104642063379288, 0.10359283536672592, 0.09877800941467285, 0.09839335083961487, 0.10142141580581665, 0.10033051669597626, 0.09776344150304794, 0.10080427676439285, 0.09800408780574799, 0.098780557513237, 0.09955184161663055, 0.10193469375371933, 0.10058796405792236, 0.09860081970691681, 0.10107508301734924, 0.1017310842871666, 0.09892959147691727, 0.09909579902887344, 0.10031523555517197, 0.1006903350353241, 0.10175825655460358, 0.09912507981061935, 0.0998108983039856, 0.10093275457620621, 0.0996776670217514, 0.09805759787559509, 0.10053637623786926, 0.0994282066822052, 0.09761961549520493, 0.10157017409801483, 0.10140901058912277, 0.10530148446559906, 0.09701315313577652, 0.09810524433851242, 0.10137064009904861, 0.10142012685537338, 0.09676234424114227]\n",
            "[1.0, 1.0, 1.0, 1.0, 1.0, 1.0, 0.0, 1.0, 1.0, 1.0, 1.0, 0.0, 1.0, 1.0, 1.0, 1.0]\n",
            "######\n",
            "[0.09961317479610443, 0.09927697479724884, 0.09979818016290665, 0.10037531703710556, 0.10089907050132751, 0.10073741525411606, 0.09897525608539581, 0.1007394790649414, 0.10027920454740524, 0.09930592030286789, 0.09993000328540802, 0.09846049547195435, 0.09864664077758789, 0.10023601353168488, 0.10205578804016113, 0.10209338366985321, 0.0984683632850647, 0.10169157385826111, 0.10011186450719833, 0.09830586612224579, 0.0991525799036026, 0.10040629655122757, 0.10050832480192184, 0.10150784999132156, 0.09891465306282043, 0.09980589151382446, 0.10121539980173111, 0.0998835489153862, 0.098208948969841, 0.10039649903774261, 0.09968587011098862, 0.09780667722225189, 0.10080502927303314, 0.10124360024929047, 0.10476517677307129, 0.09812166541814804, 0.09799685329198837, 0.10130442678928375, 0.10120940953493118, 0.09706131368875504, 0.0994233712553978, 0.09771893918514252, 0.10161148756742477, 0.10148610919713974, 0.10524154454469681, 0.09693795442581177, 0.09814989566802979, 0.10120172053575516, 0.10136506706476212, 0.09686388075351715, 0.09915780276060104, 0.09808778762817383, 0.10150755941867828, 0.10145722329616547, 0.10447084903717041, 0.09768321365118027, 0.09843374788761139, 0.10124953836202621, 0.10065334290266037, 0.0972989946603775, 0.09915780276060104, 0.09808778762817383, 0.10150755941867828, 0.10145722329616547, 0.10447084903717041, 0.09768321365118027, 0.09843374788761139, 0.10124953836202621, 0.10065334290266037, 0.0972989946603775, 0.09963870048522949, 0.09799987822771072, 0.10068970173597336, 0.10096287727355957, 0.10390090197324753, 0.09847813099622726, 0.09842350333929062, 0.10127134621143341, 0.10105434060096741, 0.09758055210113525, 0.09980446845293045, 0.09984465688467026, 0.09995570778846741, 0.10122548043727875, 0.09974195808172226, 0.10001609474420547, 0.10029836744070053, 0.09961357712745667, 0.0991162434220314, 0.10038350522518158, 0.09955399483442307, 0.09826042503118515, 0.10086905211210251, 0.10115178674459457, 0.10366466641426086, 0.09820001572370529, 0.09868869930505753, 0.10094568878412247, 0.1008465439081192, 0.09781918674707413, 0.10034416615962982, 0.09883113950490952, 0.09862152487039566, 0.09890972077846527, 0.10105440020561218, 0.10153709352016449, 0.09881563484668732, 0.10091385245323181, 0.10127440094947815, 0.09969809651374817, 0.09952283650636673, 0.09767851233482361, 0.10128405690193176, 0.10126746445894241, 0.10505321621894836, 0.09740655869245529, 0.09811044484376907, 0.10134343057870865, 0.10139823704957962, 0.09693514555692673, 0.10008829832077026, 0.09830960631370544, 0.09829466789960861, 0.09994155913591385, 0.10172557085752487, 0.10290005058050156, 0.09807336330413818, 0.10150082409381866, 0.1001942902803421, 0.09897177666425705, 0.0994819924235344, 0.09734587371349335, 0.10164956748485565, 0.10152120143175125, 0.105825275182724, 0.09678205102682114, 0.09787394106388092, 0.10147848725318909, 0.1015881672501564, 0.09645345062017441, 0.10026983916759491, 0.09821918606758118, 0.09848209470510483, 0.09972856193780899, 0.10233762115240097, 0.10151949524879456, 0.09827066957950592, 0.10161569714546204, 0.1013035848736763, 0.09825322777032852, 0.09920953959226608, 0.09869257360696793, 0.10076325386762619, 0.10098105669021606, 0.10291554033756256, 0.09907002747058868, 0.09857852756977081, 0.10100625455379486, 0.1006869226694107, 0.09809628129005432]\n",
            "[1.0, 1.0, 1.0, 1.0, 1.0, 1.0, 1.0, 1.0, 1.0, 1.0, 1.0, 1.0, 1.0, 1.0, 0.0, 1.0]\n",
            "######\n",
            "[0.09990772604942322, 0.09945016354322433, 0.09959076344966888, 0.10061188042163849, 0.09975850582122803, 0.10060309618711472, 0.10022042691707611, 0.10032681375741959, 0.09942446649074554, 0.10010621696710587, 0.09944462031126022, 0.0988551676273346, 0.1009625717997551, 0.10121460258960724, 0.10233530402183533, 0.09842420369386673, 0.0993761420249939, 0.10055427998304367, 0.10019965469837189, 0.09863355755805969, 0.10047731548547745, 0.09826748818159103, 0.0984511449933052, 0.09982087463140488, 0.10180232673883438, 0.10195944458246231, 0.0981026440858841, 0.10145407170057297, 0.10075980424880981, 0.09890488535165787, 0.10124421119689941, 0.09788473695516586, 0.09825257211923599, 0.09888191521167755, 0.10211597383022308, 0.10087597370147705, 0.09849864989519119, 0.10080685466527939, 0.102394700050354, 0.09904437512159348, 0.09966321289539337, 0.09779153764247894, 0.1007181778550148, 0.100909523665905, 0.10443677008152008, 0.09829410910606384, 0.09817558526992798, 0.10140463709831238, 0.10132410377264023, 0.09728235006332397, 0.10044678300619125, 0.09853140264749527, 0.09856167435646057, 0.09968315809965134, 0.1012987568974495, 0.10166764259338379, 0.09886779636144638, 0.10101249814033508, 0.10066942870616913, 0.09926081448793411, 0.10003859549760818, 0.09890744090080261, 0.09939947724342346, 0.10030689090490341, 0.10109937191009521, 0.10076752305030823, 0.09923601895570755, 0.10092518478631973, 0.10016331821680069, 0.0991562157869339, 0.1001206487417221, 0.0984475165605545, 0.09921925514936447, 0.10021837800741196, 0.1020030677318573, 0.1011471226811409, 0.09839154034852982, 0.10129594802856445, 0.10050733387470245, 0.09864919632673264, 0.09955988079309464, 0.09844732284545898, 0.101080983877182, 0.1012701615691185, 0.10306639969348907, 0.09805414825677872, 0.0990380272269249, 0.10078439861536026, 0.10056367516517639, 0.09813499450683594, 0.09996294975280762, 0.09939254075288773, 0.0998230054974556, 0.10085155814886093, 0.10087135434150696, 0.09977883845567703, 0.09967788308858871, 0.09980832785367966, 0.1000320315361023, 0.09980153292417526, 0.09995301067829132, 0.09827695041894913, 0.09992951899766922, 0.10057041049003601, 0.10279654711484909, 0.09957411885261536, 0.09864751994609833, 0.10104241967201233, 0.10085034370422363, 0.0983591303229332, 0.10037644952535629, 0.09757006168365479, 0.09961774200201035, 0.09953852742910385, 0.10284725576639175, 0.09993711113929749, 0.0980326235294342, 0.10196574032306671, 0.10219468921422958, 0.0979197695851326, 0.09969078004360199, 0.09845057129859924, 0.10058625787496567, 0.10092788189649582, 0.1031176745891571, 0.0986429750919342, 0.09877899289131165, 0.10084974020719528, 0.10080160945653915, 0.09815355390310287, 0.10001570731401443, 0.09933725744485855, 0.09949344396591187, 0.10007099062204361, 0.100453682243824, 0.10075584799051285, 0.09938240796327591, 0.10042868554592133, 0.10017850995063782, 0.09988337755203247, 0.10076777637004852, 0.09880568832159042, 0.09773516654968262, 0.09951201826334, 0.1002521887421608, 0.10277575254440308, 0.09885446727275848, 0.10060529410839081, 0.10064440965652466, 0.10004725307226181, 0.09973237663507462, 0.09936288744211197, 0.10010586678981781, 0.10089226812124252, 0.10066737234592438, 0.09984506666660309, 0.09979492425918579, 0.10027886927127838, 0.0996934175491333, 0.099626824259758]\n",
            "[1.0, 1.0, 0.0, 1.0, 1.0, 1.0, 1.0, 1.0, 1.0, 1.0, 1.0, 0.0, 1.0, 1.0, 1.0, 1.0]\n",
            "######\n",
            "[0.09963615983724594, 0.09916017949581146, 0.09976761043071747, 0.10060521960258484, 0.10118667036294937, 0.10042978078126907, 0.09943085163831711, 0.10067541152238846, 0.09988712519407272, 0.09922093152999878, 0.09943052381277084, 0.09907327592372894, 0.10107597708702087, 0.101400226354599, 0.10166281461715698, 0.09842333197593689, 0.09970445930957794, 0.10033250600099564, 0.09993818402290344, 0.09895868599414825, 0.09984590113162994, 0.09854073822498322, 0.09981346130371094, 0.10058848559856415, 0.10240676254034042, 0.09988657385110855, 0.09880726039409637, 0.10100656002759933, 0.10068051517009735, 0.09842370450496674, 0.10145548731088638, 0.09794379770755768, 0.09704652428627014, 0.099244125187397, 0.10098423808813095, 0.1035420373082161, 0.09805326163768768, 0.10158412158489227, 0.10084866732358932, 0.0992976725101471, 0.1001824364066124, 0.09850497543811798, 0.09953547269105911, 0.0999273806810379, 0.10149986296892166, 0.1003904640674591, 0.09893585741519928, 0.10109769552946091, 0.10099254548549652, 0.09893330931663513, 0.10088064521551132, 0.09715808928012848, 0.09733643382787704, 0.0995090901851654, 0.10300927609205246, 0.1032528430223465, 0.09705570340156555, 0.10227258503437042, 0.10167958587408066, 0.09784568846225739, 0.1010291576385498, 0.09796541184186935, 0.0981362909078598, 0.09942740947008133, 0.10195457935333252, 0.1012907326221466, 0.0985339879989624, 0.10069940239191055, 0.10174793750047684, 0.09921515733003616, 0.10075458139181137, 0.09805339574813843, 0.097927525639534, 0.09846194088459015, 0.10224539041519165, 0.10199041664600372, 0.0984039157629013, 0.10145436227321625, 0.10184896737337112, 0.09885945916175842, 0.10089079290628433, 0.09812312573194504, 0.09687385708093643, 0.09873156994581223, 0.10102783888578415, 0.10365026444196701, 0.09843815863132477, 0.10140226036310196, 0.10157217085361481, 0.09928994625806808, 0.10055045038461685, 0.09831301122903824, 0.09913823753595352, 0.09978677332401276, 0.10167135298252106, 0.10013698786497116, 0.09895960241556168, 0.10085849463939667, 0.1015218049287796, 0.09906333684921265, 0.09960959106683731, 0.09856149554252625, 0.10093504190444946, 0.10102105140686035, 0.10260392725467682, 0.09836051613092422, 0.09920931607484818, 0.10094005614519119, 0.10049835592508316, 0.09826067835092545, 0.10001211613416672, 0.09902721643447876, 0.09884815663099289, 0.10027681291103363, 0.10104161500930786, 0.10215166211128235, 0.09885852038860321, 0.1010427176952362, 0.0993797779083252, 0.099361352622509, 0.10031469911336899, 0.09923785924911499, 0.09946829825639725, 0.1003311350941658, 0.1005309522151947, 0.1003919467329979, 0.09943437576293945, 0.10036034882068634, 0.10034032166004181, 0.09959007799625397, 0.0998430848121643, 0.09825242310762405, 0.10040956735610962, 0.10065816342830658, 0.1033077985048294, 0.09896307438611984, 0.0984555259346962, 0.10119987279176712, 0.10103484988212585, 0.09787567704916, 0.10035071521997452, 0.09758248180150986, 0.09754977375268936, 0.10008560121059418, 0.10244754701852798, 0.10350453853607178, 0.0974014475941658, 0.10199503600597382, 0.10071943700313568, 0.09836343675851822, 0.09969495236873627, 0.09868479520082474, 0.10010681301355362, 0.10096829384565353, 0.10208610445261002, 0.10022182017564774, 0.09867323935031891, 0.10083325207233429, 0.0998019203543663, 0.0989287793636322]\n",
            "[1.0, 1.0, 1.0, 1.0, 1.0, 0.0, 1.0, 1.0, 1.0, 1.0, 1.0, 1.0, 1.0, 1.0, 0.0, 1.0]\n",
            "######\n",
            "[0.10073103755712509, 0.09890429675579071, 0.09693498909473419, 0.09871451556682587, 0.10010138899087906, 0.10436771810054779, 0.09848908334970474, 0.10138498991727829, 0.10051035135984421, 0.09986165910959244, 0.0993833839893341, 0.09771768748760223, 0.10170140862464905, 0.10150741785764694, 0.105166956782341, 0.0968727171421051, 0.09821298718452454, 0.10121377557516098, 0.10132288932800293, 0.0969008132815361, 0.09938022494316101, 0.09857334941625595, 0.10075318813323975, 0.10121304541826248, 0.10344760864973068, 0.09893617779016495, 0.09853757172822952, 0.10093821585178375, 0.10018704831600189, 0.09803355485200882, 0.10054784268140793, 0.09824398159980774, 0.09808827936649323, 0.09994228929281235, 0.1015743836760521, 0.10262203961610794, 0.09820816665887833, 0.10159832239151001, 0.10059259831905365, 0.09858214110136032, 0.09973491728305817, 0.09822014719247818, 0.1004980131983757, 0.10119791328907013, 0.10373225063085556, 0.09896500408649445, 0.09825918823480606, 0.10110372304916382, 0.10055027902126312, 0.09773864597082138, 0.10105790942907333, 0.09846366941928864, 0.09744569659233093, 0.09911151975393295, 0.09979254007339478, 0.10322452336549759, 0.09855138510465622, 0.10072876513004303, 0.10140971839427948, 0.10021429508924484, 0.09938858449459076, 0.09840495884418488, 0.10137317329645157, 0.10109909623861313, 0.10356995463371277, 0.09767062962055206, 0.09888967126607895, 0.10099711269140244, 0.10077711194753647, 0.09782969951629639, 0.09992561489343643, 0.09857245534658432, 0.09989803284406662, 0.10045120865106583, 0.10236429423093796, 0.09970217198133469, 0.09884364902973175, 0.10088857263326645, 0.10076267272233963, 0.09859132766723633, 0.0999319776892662, 0.0981779471039772, 0.10058485716581345, 0.10094107687473297, 0.1033635213971138, 0.0985485315322876, 0.0983966737985611, 0.10082685947418213, 0.10124412178993225, 0.09798450767993927, 0.0993243008852005, 0.098023422062397, 0.10054070502519608, 0.10172238200902939, 0.1035868376493454, 0.09863989055156708, 0.09875001758337021, 0.1011979728937149, 0.10054782778024673, 0.0976666733622551, 0.1004074364900589, 0.09797114878892899, 0.09976550936698914, 0.10112425684928894, 0.10190632939338684, 0.09959877282381058, 0.09920681267976761, 0.10159210115671158, 0.09997957944869995, 0.09844807535409927, 0.099586121737957, 0.09796727448701859, 0.10101313143968582, 0.1012154296040535, 0.10419481992721558, 0.09785008430480957, 0.09843656420707703, 0.1011437475681305, 0.1011623740196228, 0.09743046015501022, 0.09967349469661713, 0.09981241822242737, 0.10059937089681625, 0.10149842500686646, 0.10003553330898285, 0.09894457459449768, 0.10063206404447556, 0.09970500320196152, 0.09914474934339523, 0.09995432943105698, 0.09947846084833145, 0.09863422811031342, 0.10060341656208038, 0.10112985968589783, 0.10310106724500656, 0.0992443710565567, 0.09852078557014465, 0.10093662142753601, 0.10014086961746216, 0.0982104018330574, 0.09963105618953705, 0.09871246665716171, 0.09967724233865738, 0.10050402581691742, 0.10199043154716492, 0.10063396394252777, 0.09869235008955002, 0.10120357573032379, 0.10038220882415771, 0.09857265651226044, 0.09992948919534683, 0.09821714460849762, 0.09883927553892136, 0.10070464760065079, 0.10215985774993896, 0.10150423645973206, 0.09837819635868073, 0.10137709975242615, 0.10038337856531143, 0.09850669652223587]\n",
            "[1.0, 1.0, 1.0, 1.0, 1.0, 1.0, 1.0, 1.0, 1.0, 0.0, 0.0, 1.0, 1.0, 1.0, 1.0, 0.0]\n",
            "######\n",
            "[0.10023432224988937, 0.09806279093027115, 0.09879245609045029, 0.09976698458194733, 0.10232667624950409, 0.10109065473079681, 0.09848712384700775, 0.10175170004367828, 0.1011732816696167, 0.09831410646438599, 0.09960255771875381, 0.09763162583112717, 0.10094194859266281, 0.1010330468416214, 0.10487014055252075, 0.09791134297847748, 0.09805142879486084, 0.10146831721067429, 0.10146913677453995, 0.09702043235301971, 0.10007721185684204, 0.09911845624446869, 0.09954419732093811, 0.10068657994270325, 0.10045410692691803, 0.10036031156778336, 0.09967967867851257, 0.10020102560520172, 0.0999760851264, 0.09990239143371582, 0.09987086802721024, 0.09924747794866562, 0.10004968196153641, 0.10090889036655426, 0.10083676874637604, 0.09973658621311188, 0.09970681369304657, 0.0999944880604744, 0.09985973685979843, 0.09978872537612915, 0.10024028271436691, 0.09837315231561661, 0.09879957139492035, 0.09977749735116959, 0.10152629762887955, 0.10094694048166275, 0.09906160831451416, 0.10092584043741226, 0.10119468718767166, 0.09915409237146378, 0.10050524771213531, 0.09755746275186539, 0.09817393124103546, 0.09871026128530502, 0.10231343656778336, 0.10227120667695999, 0.09769151359796524, 0.10197640210390091, 0.10213208198547363, 0.09866844862699509, 0.09942536801099777, 0.09771917760372162, 0.1016087755560875, 0.10147947818040848, 0.10514120757579803, 0.0969567820429802, 0.0982142984867096, 0.10120081901550293, 0.10132353007793427, 0.09693054854869843, 0.09998640418052673, 0.09875080734491348, 0.09979065507650375, 0.10061975568532944, 0.10214689373970032, 0.09962186217308044, 0.09899361431598663, 0.10118377208709717, 0.10045579820871353, 0.09845037013292313, 0.09921740740537643, 0.09835963696241379, 0.1014680415391922, 0.10088872909545898, 0.1043752059340477, 0.09746607393026352, 0.09860005974769592, 0.10115385800600052, 0.10109195113182068, 0.09737896919250488, 0.10096939653158188, 0.09823689609766006, 0.09785518795251846, 0.09905692934989929, 0.10161059349775314, 0.1017940565943718, 0.09878849983215332, 0.10094257444143295, 0.10139750689268112, 0.09934838861227036, 0.09943778812885284, 0.09760181605815887, 0.10176854580640793, 0.10138195008039474, 0.10574354231357574, 0.09668672829866409, 0.09791646152734756, 0.10138683766126633, 0.1015300303697586, 0.09654632955789566, 0.10057416558265686, 0.09878462553024292, 0.09794198721647263, 0.09965532273054123, 0.09990526735782623, 0.10222848504781723, 0.09933172166347504, 0.10053400695323944, 0.10089194029569626, 0.10015243291854858, 0.10001781582832336, 0.09784561395645142, 0.09913438558578491, 0.09976325929164886, 0.1025364026427269, 0.1011793240904808, 0.09799788147211075, 0.1016630232334137, 0.1016254723072052, 0.09823675453662872, 0.10110267251729965, 0.09800104796886444, 0.09711413085460663, 0.09907391667366028, 0.10128697007894516, 0.10333231836557388, 0.0979708731174469, 0.10115138441324234, 0.10139871388673782, 0.09956791996955872, 0.09946480393409729, 0.09901246428489685, 0.100581094622612, 0.10077863931655884, 0.1020883247256279, 0.09898979961872101, 0.09948313236236572, 0.10063310712575912, 0.10031293332576752, 0.09865570813417435, 0.09960398823022842, 0.09802638739347458, 0.1009100005030632, 0.10099310427904129, 0.10411161929368973, 0.09805317223072052, 0.09842304140329361, 0.10110973566770554, 0.10122509300708771, 0.09754393994808197]\n",
            "[0.0, 1.0, 1.0, 1.0, 1.0, 0.0, 1.0, 0.0, 1.0, 1.0, 1.0, 1.0, 0.0, 1.0, 1.0, 1.0]\n",
            "######\n",
            "[0.09935089200735092, 0.09900867193937302, 0.1012871190905571, 0.10142101347446442, 0.10226598381996155, 0.09804800152778625, 0.09954844415187836, 0.10039488226175308, 0.1000325009226799, 0.09864242374897003, 0.1004672423005104, 0.09750883281230927, 0.09820524603128433, 0.09985552728176117, 0.10253304243087769, 0.10229600965976715, 0.09769503027200699, 0.10200220346450806, 0.10117290169000626, 0.0982639268040657, 0.1005607321858406, 0.09845388680696487, 0.09829788655042648, 0.09939293563365936, 0.10122187435626984, 0.10199632495641708, 0.09863881021738052, 0.10108856856822968, 0.10116437077522278, 0.09918458014726639, 0.09993713349103928, 0.09851446747779846, 0.09984485059976578, 0.10045690089464188, 0.1024189367890358, 0.099774569272995, 0.09878822416067123, 0.10092378407716751, 0.10077393054962158, 0.09856723248958588, 0.09948279708623886, 0.09766874462366104, 0.10163598507642746, 0.10155098140239716, 0.10529015213251114, 0.0968751311302185, 0.09817340224981308, 0.10120280086994171, 0.10128846019506454, 0.09683157503604889, 0.09954706579446793, 0.09863314777612686, 0.10094115883111954, 0.10106579214334488, 0.10267867892980576, 0.09831055253744125, 0.09923384338617325, 0.1008375883102417, 0.10048196464776993, 0.09827020764350891, 0.09977110475301743, 0.09840991348028183, 0.10046453773975372, 0.10093102604150772, 0.10287556052207947, 0.0989307165145874, 0.0988474190235138, 0.10096190124750137, 0.10056755691766739, 0.09824025630950928, 0.09935692697763443, 0.0979151651263237, 0.10172322392463684, 0.10160591453313828, 0.10487981140613556, 0.09690041095018387, 0.09842328727245331, 0.10110043734312057, 0.10104842483997345, 0.09704644978046417, 0.09959432482719421, 0.0991058200597763, 0.10008552670478821, 0.10089723765850067, 0.10127849876880646, 0.100040003657341, 0.09938805550336838, 0.10081848502159119, 0.09970130771398544, 0.09909078478813171, 0.09990245848894119, 0.09849777817726135, 0.09884598851203918, 0.10022260248661041, 0.10205470025539398, 0.10162198543548584, 0.09874997287988663, 0.10157796740531921, 0.10033240914344788, 0.0981941819190979, 0.09963250905275345, 0.09878885746002197, 0.10090135037899017, 0.10144879668951035, 0.10247860103845596, 0.09819826483726501, 0.09935731440782547, 0.1004437729716301, 0.10027559101581573, 0.0984749048948288, 0.10027051717042923, 0.0992799773812294, 0.09956985712051392, 0.1005934476852417, 0.10060565918684006, 0.10008574277162552, 0.09948544949293137, 0.09980224072933197, 0.10033919662237167, 0.0999678447842598, 0.09947562217712402, 0.09807928651571274, 0.10064483433961868, 0.10098954290151596, 0.10398757457733154, 0.09870646148920059, 0.09832827001810074, 0.10131087154150009, 0.10097954422235489, 0.09749788045883179, 0.10005170851945877, 0.09863582998514175, 0.09881670027971268, 0.10011100023984909, 0.10191427171230316, 0.10170954465866089, 0.09876500815153122, 0.1016516163945198, 0.10009277611970901, 0.09825144708156586, 0.09963657706975937, 0.09944910556077957, 0.10095032304525375, 0.10113092511892319, 0.10117682814598083, 0.09843961894512177, 0.10001148283481598, 0.09996186196804047, 0.09990911930799484, 0.09933418035507202, 0.09982859343290329, 0.09861398488283157, 0.10069262981414795, 0.100178562104702, 0.1020817905664444, 0.09880299866199493, 0.09940265119075775, 0.10118474811315536, 0.10082788020372391, 0.09838620573282242]\n",
            "[1.0, 0.0, 1.0, 1.0, 1.0, 1.0, 1.0, 1.0, 1.0, 1.0, 1.0, 1.0, 1.0, 1.0, 1.0, 1.0]\n",
            "######\n",
            "[0.09990344196557999, 0.09835872799158096, 0.09929171204566956, 0.09948034584522247, 0.10160356014966965, 0.1013527438044548, 0.09854694455862045, 0.1017213687300682, 0.1010843887925148, 0.09865677356719971, 0.09973324090242386, 0.09747560322284698, 0.1007232591509819, 0.10099329799413681, 0.10516861826181412, 0.09802704304456711, 0.09780233353376389, 0.1015482172369957, 0.1016807109117508, 0.09684769064188004, 0.10012924671173096, 0.09896339476108551, 0.0993611291050911, 0.10037742555141449, 0.10067125409841537, 0.10068143159151077, 0.09952596575021744, 0.10056427866220474, 0.10005936026573181, 0.09966646879911423, 0.10043612867593765, 0.09799215942621231, 0.09849386662244797, 0.09986001998186111, 0.10276630520820618, 0.10176491737365723, 0.09810566157102585, 0.10185840725898743, 0.10056858509778976, 0.09815388917922974, 0.09953439235687256, 0.09955279529094696, 0.10090374201536179, 0.10142607241868973, 0.10043778270483017, 0.09872718155384064, 0.10033965855836868, 0.0998636782169342, 0.09941811114549637, 0.09979664534330368, 0.10079153627157211, 0.09837444871664047, 0.09715868532657623, 0.09932161122560501, 0.10045125335454941, 0.10417106002569199, 0.09801894426345825, 0.10113886743783951, 0.10055513679981232, 0.10001843422651291, 0.09956937283277512, 0.09763216227293015, 0.10103538632392883, 0.1010468527674675, 0.10494380444288254, 0.09778820723295212, 0.09805189073085785, 0.10146397352218628, 0.10148785263299942, 0.0969805121421814, 0.10001221299171448, 0.09965892136096954, 0.09971058368682861, 0.10099554806947708, 0.1000395268201828, 0.10021642595529556, 0.09990216791629791, 0.09960250556468964, 0.0995817705988884, 0.10028035193681717, 0.09964651614427567, 0.09876935929059982, 0.09965527802705765, 0.10044398158788681, 0.10191840678453445, 0.10070078819990158, 0.0987139418721199, 0.10121653974056244, 0.10034245997667313, 0.09859274327754974, 0.09993550181388855, 0.09837766736745834, 0.0996507778763771, 0.10035280883312225, 0.10268811881542206, 0.10010319203138351, 0.09856925904750824, 0.10118477046489716, 0.10080345720052719, 0.09833446890115738, 0.1004842147231102, 0.09827364981174469, 0.09851249307394028, 0.10004721581935883, 0.10159698873758316, 0.101036436855793, 0.09897078573703766, 0.10060267895460129, 0.10109253227710724, 0.09938295930624008, 0.10040896385908127, 0.09873193502426147, 0.09872089326381683, 0.09989612549543381, 0.10105476528406143, 0.1012917086482048, 0.09897827357053757, 0.10081484168767929, 0.10073719173669815, 0.09936541318893433, 0.09969831258058548, 0.09814930707216263, 0.10022012144327164, 0.10075096786022186, 0.10306476801633835, 0.09930528700351715, 0.09878923743963242, 0.10121216624975204, 0.10081130266189575, 0.09799849987030029, 0.09937677532434464, 0.0975162461400032, 0.10173770785331726, 0.1015692725777626, 0.10560109466314316, 0.09675481915473938, 0.0980258509516716, 0.10138172656297684, 0.10145939141511917, 0.09657710045576096, 0.09968046844005585, 0.0991610735654831, 0.09975993633270264, 0.10021942108869553, 0.10113900154829025, 0.1007501557469368, 0.09884538501501083, 0.10092324018478394, 0.10040874779224396, 0.0991126075387001, 0.09937618672847748, 0.09782050549983978, 0.101690374314785, 0.10150784254074097, 0.10500886291265488, 0.09690123796463013, 0.09831392019987106, 0.10114313662052155, 0.10123474150896072, 0.09700316935777664]\n",
            "[1.0, 1.0, 1.0, 1.0, 1.0, 1.0, 1.0, 1.0, 1.0, 1.0, 1.0, 1.0, 1.0, 1.0, 1.0, 1.0]\n",
            "######\n",
            "[0.09952078014612198, 0.09778358042240143, 0.10140401870012283, 0.10123955458402634, 0.10496199876070023, 0.09723539650440216, 0.09817980229854584, 0.10123848170042038, 0.10139239579439163, 0.0970439538359642, 0.09979778528213501, 0.09845878928899765, 0.10012150555849075, 0.10064944624900818, 0.10260944813489914, 0.0994093269109726, 0.09882669895887375, 0.10095072537660599, 0.10076673328876495, 0.0984094887971878, 0.09950514137744904, 0.09950771182775497, 0.10103224962949753, 0.10154026001691818, 0.10088708996772766, 0.09840239584445953, 0.10022309422492981, 0.09992966055870056, 0.09949619323015213, 0.09947613626718521, 0.10069526731967926, 0.09867116808891296, 0.09790259599685669, 0.09989434480667114, 0.10152065753936768, 0.10288924723863602, 0.09840120375156403, 0.10141656547784805, 0.0998852476477623, 0.09872378408908844, 0.09950350970029831, 0.0986601859331131, 0.09921631962060928, 0.1003006100654602, 0.10150753706693649, 0.1012391597032547, 0.0991128534078598, 0.10132328420877457, 0.10030540823936462, 0.09883112460374832, 0.099215067923069, 0.09884022921323776, 0.10128583759069443, 0.1011754646897316, 0.10280853509902954, 0.09812390059232712, 0.0993296280503273, 0.10072283446788788, 0.10024668276309967, 0.0982518270611763, 0.09960585832595825, 0.10016382485628128, 0.10019554942846298, 0.10140109062194824, 0.09919189661741257, 0.09978234767913818, 0.10081407427787781, 0.09949743747711182, 0.0987347662448883, 0.10061313211917877, 0.0994628369808197, 0.09799379855394363, 0.10095850378274918, 0.10130707174539566, 0.10374807566404343, 0.09823400527238846, 0.09860137850046158, 0.10135788470506668, 0.1007489562034607, 0.09758751094341278, 0.10048644989728928, 0.09734446555376053, 0.09853045642375946, 0.10006418824195862, 0.10430002957582474, 0.10093633085489273, 0.09735258668661118, 0.10191074013710022, 0.10185442119836807, 0.0972202867269516, 0.0996602475643158, 0.09867411851882935, 0.10076728463172913, 0.10144346207380295, 0.10262445360422134, 0.0983210876584053, 0.09925151616334915, 0.10049697756767273, 0.10034909844398499, 0.09841174632310867, 0.10032282769680023, 0.09873244166374207, 0.09901619702577591, 0.09919927269220352, 0.10131222754716873, 0.10105429589748383, 0.09912697970867157, 0.10154072940349579, 0.10097747296094894, 0.09871756285429001, 0.10009177029132843, 0.0989464744925499, 0.09947321563959122, 0.10051422566175461, 0.10057137161493301, 0.10058479756116867, 0.09961216151714325, 0.10057295113801956, 0.09995469450950623, 0.09967836737632751, 0.09938443452119827, 0.09816665202379227, 0.10161298513412476, 0.1015862450003624, 0.10413975268602371, 0.09720581769943237, 0.09873560070991516, 0.10094599425792694, 0.10075318813323975, 0.09746932983398438, 0.09986792504787445, 0.099772147834301, 0.09914427995681763, 0.1005900502204895, 0.09992454200983047, 0.10066535323858261, 0.10054511576890945, 0.1005849540233612, 0.09905355423688889, 0.09985212981700897, 0.09959300607442856, 0.09787604212760925, 0.10082124918699265, 0.10097912698984146, 0.10430940985679626, 0.09821319580078125, 0.09827274829149246, 0.10132884979248047, 0.10124179720878601, 0.09736449271440506, 0.10041607171297073, 0.0984664186835289, 0.09886864572763443, 0.0995524451136589, 0.10220284014940262, 0.10158871859312057, 0.09833279997110367, 0.10164821147918701, 0.10052469372749329, 0.09839911013841629]\n",
            "[1.0, 1.0, 1.0, 1.0, 0.0, 1.0, 1.0, 0.0, 0.0, 1.0, 1.0, 1.0, 1.0, 0.0, 1.0, 1.0]\n",
            "######\n",
            "[0.09943076223134995, 0.0977017730474472, 0.10158096253871918, 0.10152065753936768, 0.10511034727096558, 0.09698233753442764, 0.09822183102369308, 0.10119173675775528, 0.10131444782018661, 0.09694521129131317, 0.0994279682636261, 0.09821843355894089, 0.10139536112546921, 0.10143622756004333, 0.10392974317073822, 0.09749320894479752, 0.09877967089414597, 0.10094593465328217, 0.10085390508174896, 0.09751945734024048, 0.0997442901134491, 0.09832540899515152, 0.09990878403186798, 0.100687175989151, 0.10258851945400238, 0.09948816895484924, 0.09877477586269379, 0.10128534585237503, 0.1009359210729599, 0.09826165437698364, 0.1009533628821373, 0.09784118086099625, 0.09840583801269531, 0.10002182424068451, 0.10201302915811539, 0.1007920429110527, 0.09845717996358871, 0.10054665803909302, 0.10167571902275085, 0.09929309040307999, 0.09982743114233017, 0.09848812222480774, 0.09994874149560928, 0.10055401921272278, 0.10251370817422867, 0.09968065470457077, 0.09880625456571579, 0.10099850594997406, 0.10073517262935638, 0.09844735264778137, 0.09955678880214691, 0.09833547472953796, 0.10088781267404556, 0.10112770646810532, 0.10344468802213669, 0.09824556112289429, 0.0987689346075058, 0.10091090947389603, 0.10076788812875748, 0.09795419126749039, 0.0994986817240715, 0.09804228693246841, 0.100521981716156, 0.10119935125112534, 0.1041681319475174, 0.09910131245851517, 0.09799586981534958, 0.10135360062122345, 0.10061892122030258, 0.09749989956617355, 0.10081207007169724, 0.09829817712306976, 0.09753941744565964, 0.09928634017705917, 0.10071180760860443, 0.10323037952184677, 0.09828631579875946, 0.10103881359100342, 0.10103420913219452, 0.09976254403591156, 0.10081778466701508, 0.09869042038917542, 0.09729373455047607, 0.09893395751714706, 0.0996207743883133, 0.10382679849863052, 0.09851959347724915, 0.1007799282670021, 0.10115276277065277, 0.10036428272724152, 0.10000312328338623, 0.09860951453447342, 0.09893009066581726, 0.10013522207736969, 0.10183883458375931, 0.10157889872789383, 0.09885674715042114, 0.10162955522537231, 0.1001526340842247, 0.09826544672250748, 0.09904048591852188, 0.0992426872253418, 0.10082095116376877, 0.10135366767644882, 0.1017531007528305, 0.09946436434984207, 0.0992613136768341, 0.1007000207901001, 0.09944256395101547, 0.09892084449529648, 0.0999288260936737, 0.09865248948335648, 0.09965866059064865, 0.10031391680240631, 0.10190876573324203, 0.1001676619052887, 0.098963662981987, 0.10089018940925598, 0.10067862272262573, 0.09883716702461243, 0.09986130893230438, 0.09783002734184265, 0.0997014194726944, 0.10048552602529526, 0.10390936583280563, 0.09956122934818268, 0.09820171445608139, 0.10154334455728531, 0.1012582927942276, 0.09764771908521652, 0.1005408987402916, 0.09949108958244324, 0.09828747808933258, 0.09872452914714813, 0.09908991307020187, 0.10235460102558136, 0.09959697723388672, 0.10044479370117188, 0.10068904608488083, 0.10078069567680359, 0.0995897650718689, 0.09893161058425903, 0.10097513347864151, 0.10124852508306503, 0.10201985388994217, 0.09825676679611206, 0.09953474253416061, 0.10034873336553574, 0.10028254985809326, 0.09881219267845154, 0.09999478608369827, 0.09822183847427368, 0.0999656617641449, 0.10058686137199402, 0.10295084863901138, 0.09982767701148987, 0.09820820391178131, 0.10124146193265915, 0.10092049837112427, 0.09808212518692017]\n",
            "[1.0, 1.0, 0.0, 1.0, 1.0, 1.0, 1.0, 1.0, 1.0, 1.0, 1.0, 1.0, 0.0, 1.0, 1.0, 1.0]\n",
            "######\n",
            "[0.10079185664653778, 0.09873475134372711, 0.0971539169549942, 0.09889794141054153, 0.10054027289152145, 0.10398662835359573, 0.09840785712003708, 0.10155785083770752, 0.10026799887418747, 0.09966099262237549, 0.09969437122344971, 0.09926214069128036, 0.10062606632709503, 0.1011040061712265, 0.10106357932090759, 0.0988541841506958, 0.09982722997665405, 0.09991776943206787, 0.10006293654441833, 0.09958777576684952, 0.10074763000011444, 0.09864053130149841, 0.09865419566631317, 0.09956882894039154, 0.10145342350006104, 0.10096235573291779, 0.09866312891244888, 0.10044974833726883, 0.10138997435569763, 0.09947016090154648, 0.09998645633459091, 0.0985313206911087, 0.09910129755735397, 0.10063013434410095, 0.10231860727071762, 0.10051263868808746, 0.09867283701896667, 0.1008988693356514, 0.10071960836648941, 0.0986282005906105, 0.09938856214284897, 0.0977860540151596, 0.10163701325654984, 0.10153353959321976, 0.10505387932062149, 0.0969613566994667, 0.09826621413230896, 0.10118792951107025, 0.10124873369932175, 0.09693671017885208, 0.1008409783244133, 0.09809290617704391, 0.09699273854494095, 0.09969042241573334, 0.10078940540552139, 0.10443028062582016, 0.09791571646928787, 0.10132331401109695, 0.10005869716405869, 0.09986555576324463, 0.09938409179449081, 0.09753383696079254, 0.10170891135931015, 0.10159549862146378, 0.10566066205501556, 0.09679965674877167, 0.09799245744943619, 0.10138147324323654, 0.10137568414211273, 0.09656763076782227, 0.10135377943515778, 0.09796930104494095, 0.09648715704679489, 0.09885402023792267, 0.10127440840005875, 0.10430094599723816, 0.09760383516550064, 0.10146310180425644, 0.10134141892194748, 0.09935198724269867, 0.09964306652545929, 0.09863699972629547, 0.10062060505151749, 0.10080922394990921, 0.10250844806432724, 0.09884906560182571, 0.09913955628871918, 0.10090294480323792, 0.10047252476215363, 0.09841753542423248, 0.09995167702436447, 0.09861528128385544, 0.09895914793014526, 0.1003565639257431, 0.10269508510828018, 0.10120856016874313, 0.09823412448167801, 0.1011805459856987, 0.10043077915906906, 0.09836829453706741, 0.09972427040338516, 0.09818225353956223, 0.1004553958773613, 0.10104188323020935, 0.10349152982234955, 0.09876232594251633, 0.09854870289564133, 0.1010112315416336, 0.10087180882692337, 0.09791060537099838, 0.1015332043170929, 0.09767711907625198, 0.09747088700532913, 0.09843529015779495, 0.10234754532575607, 0.10203085839748383, 0.09763038158416748, 0.1013571247458458, 0.1027199774980545, 0.09879764169454575, 0.09986218065023422, 0.09907536953687668, 0.09943749010562897, 0.10003001987934113, 0.10064183920621872, 0.10121005773544312, 0.09936738759279251, 0.10094400495290756, 0.09992378950119019, 0.09950781613588333, 0.1002560704946518, 0.09803097695112228, 0.09864410758018494, 0.09997018426656723, 0.10267988592386246, 0.10152295231819153, 0.0978107750415802, 0.10153583437204361, 0.10126761347055435, 0.098281629383564, 0.10008116066455841, 0.09816441684961319, 0.09927664697170258, 0.10032596439123154, 0.10241406410932541, 0.1004989892244339, 0.09811347723007202, 0.10112867504358292, 0.10153045505285263, 0.0984661728143692, 0.09957534074783325, 0.09790977090597153, 0.10097850859165192, 0.10112623125314713, 0.10433625429868698, 0.09791175276041031, 0.0983630046248436, 0.10124599933624268, 0.1012183427810669, 0.09733474254608154]\n",
            "[1.0, 1.0, 1.0, 1.0, 1.0, 1.0, 1.0, 1.0, 1.0, 0.0, 1.0, 1.0, 1.0, 0.0, 1.0, 1.0]\n",
            "######\n",
            "[0.10033811628818512, 0.09803715348243713, 0.09882741421461105, 0.09980308264493942, 0.10244660824537277, 0.10082617402076721, 0.09845232963562012, 0.1016455814242363, 0.10151023417711258, 0.09811331331729889, 0.09960266202688217, 0.0988755151629448, 0.09998781234025955, 0.10062111914157867, 0.10225416719913483, 0.09966227412223816, 0.0992201566696167, 0.10117887705564499, 0.10013467073440552, 0.098462775349617, 0.10060293227434158, 0.09813204407691956, 0.09718716144561768, 0.10030193626880646, 0.10074861347675323, 0.10358474403619766, 0.09852378070354462, 0.10101951658725739, 0.10014548897743225, 0.09975380450487137, 0.09960255771875381, 0.09763162583112717, 0.10094194859266281, 0.1010330468416214, 0.10487014055252075, 0.09791134297847748, 0.09805142879486084, 0.10146831721067429, 0.10146913677453995, 0.09702043235301971, 0.09962082654237747, 0.09872469305992126, 0.10025724023580551, 0.1006104052066803, 0.10218380391597748, 0.09950881451368332, 0.09915129840373993, 0.10087526589632034, 0.10043227672576904, 0.09863530844449997, 0.10001353174448013, 0.09960982948541641, 0.09967825561761856, 0.10102090984582901, 0.09997569024562836, 0.10031978785991669, 0.09988076984882355, 0.09961443394422531, 0.09955907613039017, 0.10032773017883301, 0.1002984270453453, 0.09815838187932968, 0.09839052706956863, 0.09969218820333481, 0.10254957526922226, 0.1020258292555809, 0.09824323654174805, 0.10171985626220703, 0.10060812532901764, 0.09831385314464569, 0.09991605579853058, 0.09758622199296951, 0.0997031107544899, 0.10045567899942398, 0.10427636653184891, 0.0997391939163208, 0.09774979203939438, 0.10171250998973846, 0.10148786753416061, 0.09737324714660645, 0.09952050447463989, 0.09889138489961624, 0.0999545156955719, 0.10059336572885513, 0.10226442664861679, 0.10035368800163269, 0.09865199029445648, 0.10100792348384857, 0.10015697032213211, 0.0986051931977272, 0.09941267967224121, 0.09769216924905777, 0.10164971649646759, 0.1015024334192276, 0.10530649870634079, 0.09690214693546295, 0.09813214838504791, 0.10124649107456207, 0.10133448243141174, 0.09682117402553558, 0.09959051012992859, 0.09880928695201874, 0.10037294775247574, 0.10080480575561523, 0.10233208537101746, 0.09905508905649185, 0.09917294234037399, 0.10069874674081802, 0.10058695822954178, 0.0985766351222992, 0.09933455288410187, 0.09800010919570923, 0.10145430266857147, 0.1013079285621643, 0.10465164482593536, 0.09748455137014389, 0.09836645424365997, 0.1012941226363182, 0.1009826734662056, 0.09712369740009308, 0.09963913261890411, 0.09847672283649445, 0.10056038200855255, 0.10104523599147797, 0.10262154787778854, 0.09898962080478668, 0.09896524995565414, 0.10103954374790192, 0.10044308006763458, 0.09821948409080505, 0.09987245500087738, 0.09814345836639404, 0.09993153810501099, 0.10031557083129883, 0.10266509652137756, 0.0997992530465126, 0.09883083403110504, 0.10188127309083939, 0.10047687590122223, 0.09808366000652313, 0.09980655461549759, 0.09838312119245529, 0.10003825277090073, 0.10051294416189194, 0.1030576080083847, 0.09960230439901352, 0.09843084216117859, 0.10126686096191406, 0.10091561079025269, 0.0979859009385109, 0.1002560406923294, 0.09846381098031998, 0.09834682941436768, 0.09999241679906845, 0.1015707403421402, 0.10222256928682327, 0.09809327125549316, 0.10096742957830429, 0.10101285576820374, 0.09907405078411102]\n",
            "[0.0, 0.0, 1.0, 1.0, 1.0, 1.0, 1.0, 0.0, 1.0, 1.0, 1.0, 1.0, 1.0, 0.0, 1.0, 1.0]\n",
            "######\n",
            "[0.09960198402404785, 0.09832312166690826, 0.10081508755683899, 0.10101815313100815, 0.10302596539258957, 0.0985114574432373, 0.0988968014717102, 0.10106661915779114, 0.10066473484039307, 0.09807602316141129, 0.09981090575456619, 0.09884289652109146, 0.09793970733880997, 0.09990984201431274, 0.10065802186727524, 0.10284942388534546, 0.09892036020755768, 0.10109441727399826, 0.1003953143954277, 0.09957905113697052, 0.09978479892015457, 0.09824695438146591, 0.10058324038982391, 0.10083380341529846, 0.10290303081274033, 0.09868539124727249, 0.09871409833431244, 0.10091017186641693, 0.10103851556777954, 0.098300039768219, 0.10079185664653778, 0.09873475134372711, 0.0971539169549942, 0.09889794141054153, 0.10054027289152145, 0.10398662835359573, 0.09840785712003708, 0.10155785083770752, 0.10026799887418747, 0.09966099262237549, 0.09957987815141678, 0.09784173965454102, 0.1009947881102562, 0.10111841559410095, 0.10445176064968109, 0.09787773340940475, 0.09829896688461304, 0.10129199922084808, 0.10127796232700348, 0.09726668894290924, 0.10015647858381271, 0.09840621054172516, 0.09917381405830383, 0.10025099664926529, 0.10268449783325195, 0.1008797138929367, 0.09813128411769867, 0.10134061425924301, 0.10076264292001724, 0.09821373969316483, 0.09972010552883148, 0.09903891384601593, 0.0996001735329628, 0.09999166429042816, 0.10094555467367172, 0.10115668177604675, 0.09896870702505112, 0.10134917497634888, 0.10035586357116699, 0.09887323528528214, 0.10012581944465637, 0.09752447158098221, 0.09897617250680923, 0.10055014491081238, 0.10337652266025543, 0.10068314522504807, 0.09779389947652817, 0.10159635543823242, 0.10145207494497299, 0.09792139381170273, 0.09958630055189133, 0.09859715402126312, 0.10035765171051025, 0.10072101652622223, 0.10262593626976013, 0.09929115325212479, 0.098843514919281, 0.10105632990598679, 0.10065969824790955, 0.09826125204563141, 0.09968056529760361, 0.09810693562030792, 0.10047364979982376, 0.10049578547477722, 0.10327322036027908, 0.09871507436037064, 0.09863517433404922, 0.10121452063322067, 0.10145176947116852, 0.09795326739549637, 0.10000579804182053, 0.09902094304561615, 0.09955316036939621, 0.10073117911815643, 0.10192731022834778, 0.10066591203212738, 0.09855227917432785, 0.10066469013690948, 0.09996508061885834, 0.09891362488269806, 0.09948126971721649, 0.0982561931014061, 0.10091924667358398, 0.10105717182159424, 0.10363909602165222, 0.0984177216887474, 0.09855667501688004, 0.1011975109577179, 0.10081781446933746, 0.0976572185754776, 0.1001514419913292, 0.0989856943488121, 0.0992623046040535, 0.0998971238732338, 0.10156422108411789, 0.10074859112501144, 0.09897918999195099, 0.10102859884500504, 0.10054471343755722, 0.09883809834718704, 0.09982598572969437, 0.09893032908439636, 0.10011788457632065, 0.1005794033408165, 0.1019023209810257, 0.09952113032341003, 0.09917914867401123, 0.10065362602472305, 0.10043928772211075, 0.09885089099407196, 0.10029957443475723, 0.09890100359916687, 0.09896835684776306, 0.10009204596281052, 0.10059119760990143, 0.10079231858253479, 0.09948331862688065, 0.10008987784385681, 0.1008494570851326, 0.09993275254964828, 0.09945739805698395, 0.09807078540325165, 0.10135260969400406, 0.10124703496694565, 0.10429972410202026, 0.09740205854177475, 0.09856437146663666, 0.10097142308950424, 0.10118963569402695, 0.09744500368833542]\n",
            "[1.0, 0.0, 1.0, 1.0, 1.0, 1.0, 1.0, 0.0, 1.0, 0.0, 1.0, 1.0, 1.0, 1.0, 1.0, 1.0]\n",
            "######\n",
            "[0.0992351621389389, 0.09846960753202438, 0.10004889965057373, 0.10090089589357376, 0.10120461881160736, 0.10119127482175827, 0.0987011194229126, 0.10169250518083572, 0.09975934773683548, 0.09879662096500397, 0.09995678067207336, 0.09864892065525055, 0.09884700179100037, 0.10004134476184845, 0.10138066858053207, 0.10173028707504272, 0.09893340617418289, 0.10141294449567795, 0.10047460347414017, 0.0985739529132843, 0.09999272227287292, 0.09889731556177139, 0.09908559918403625, 0.09997164458036423, 0.10140776634216309, 0.10136379301548004, 0.09887497127056122, 0.10109826177358627, 0.10024596750736237, 0.09906192868947983, 0.10039371252059937, 0.09869953244924545, 0.09887408465147018, 0.10020352154970169, 0.10160377621650696, 0.10087879002094269, 0.0988788977265358, 0.1003999337553978, 0.10061604529619217, 0.09945165365934372, 0.09967698156833649, 0.09909258037805557, 0.09894736856222153, 0.10053224861621857, 0.10168822109699249, 0.10148737579584122, 0.09914201498031616, 0.10109701752662659, 0.09947722405195236, 0.09885896742343903, 0.09968853741884232, 0.09850592911243439, 0.10053103417158127, 0.10095121711492538, 0.10274267196655273, 0.09881652891635895, 0.09893772006034851, 0.10078683495521545, 0.10066880285739899, 0.09837067872285843, 0.09983639419078827, 0.09866165369749069, 0.09992082417011261, 0.10076410323381424, 0.10220012813806534, 0.09955058991909027, 0.09914863854646683, 0.10080190747976303, 0.10052955150604248, 0.09858614951372147, 0.10004440695047379, 0.09904281795024872, 0.09946999698877335, 0.10020136088132858, 0.10067868232727051, 0.10049314796924591, 0.09951158612966537, 0.10065163671970367, 0.1004936471581459, 0.09941273182630539, 0.09959055483341217, 0.09911605715751648, 0.10006255656480789, 0.10091029107570648, 0.10193712264299393, 0.09958795458078384, 0.09947118908166885, 0.10070963948965073, 0.09991517663002014, 0.0986994057893753, 0.09993404150009155, 0.0984933152794838, 0.09966365993022919, 0.10032827407121658, 0.10242588818073273, 0.100169338285923, 0.09867579489946365, 0.10112006217241287, 0.1007029116153717, 0.09848671406507492, 0.09947846084833145, 0.09863422811031342, 0.10060341656208038, 0.10112985968589783, 0.10310106724500656, 0.0992443710565567, 0.09852078557014465, 0.10093662142753601, 0.10014086961746216, 0.0982104018330574, 0.09943608939647675, 0.09777799248695374, 0.10126733779907227, 0.10108688473701477, 0.10480402410030365, 0.09767746925354004, 0.09812917560338974, 0.10145048797130585, 0.10134468227624893, 0.09702593833208084, 0.1000421792268753, 0.09825950115919113, 0.09877870976924896, 0.10036621987819672, 0.10260257869958878, 0.10100177675485611, 0.09848494082689285, 0.10144537687301636, 0.10082469880580902, 0.09819407761096954, 0.09941013902425766, 0.09870745986700058, 0.10104434937238693, 0.10115831345319748, 0.10231239348649979, 0.09839161485433578, 0.09941080957651138, 0.1006937026977539, 0.1003134623169899, 0.09855768829584122, 0.09988568723201752, 0.09878359735012054, 0.10000914335250854, 0.10084282606840134, 0.10188721865415573, 0.09946438670158386, 0.09929846972227097, 0.10067737847566605, 0.10039398074150085, 0.0987573117017746, 0.09985912591218948, 0.09830527007579803, 0.09885578602552414, 0.10023438185453415, 0.10112781077623367, 0.10243861377239227, 0.09838883578777313, 0.10191848874092102, 0.10017227381467819, 0.09869935363531113]\n",
            "[1.0, 1.0, 1.0, 1.0, 0.0, 1.0, 1.0, 1.0, 1.0, 1.0, 1.0, 1.0, 0.0, 1.0, 1.0, 1.0]\n",
            "######\n",
            "[0.09980626404285431, 0.09893273562192917, 0.09942802041769028, 0.10048394650220871, 0.10114583373069763, 0.10097736120223999, 0.09879626333713531, 0.1007826030254364, 0.1004611924290657, 0.0991857498884201, 0.09948977828025818, 0.09764064103364944, 0.10138456523418427, 0.10132899880409241, 0.10516033321619034, 0.09726814180612564, 0.09809623658657074, 0.10135159641504288, 0.10140472650527954, 0.09687495976686478, 0.09951860457658768, 0.09883326292037964, 0.10102416574954987, 0.1013013944029808, 0.10217989236116409, 0.09819403290748596, 0.09948305040597916, 0.10042792558670044, 0.10033851116895676, 0.09869912266731262, 0.09966244548559189, 0.09873627871274948, 0.10083625465631485, 0.1011376678943634, 0.10230910778045654, 0.09829697012901306, 0.09934552013874054, 0.10045769810676575, 0.10057397186756134, 0.09864407032728195, 0.09975757449865341, 0.09770403057336807, 0.10067599266767502, 0.10122890770435333, 0.10469741374254227, 0.09831496328115463, 0.09789785742759705, 0.1013425886631012, 0.10127019882202148, 0.09711050987243652, 0.09927189350128174, 0.09808623790740967, 0.10133326053619385, 0.10147873312234879, 0.10425598174333572, 0.09773413091897964, 0.09848175942897797, 0.1011032983660698, 0.10084118694067001, 0.09741353988647461, 0.09962604194879532, 0.0988602265715599, 0.10094859451055527, 0.10119594633579254, 0.1021200641989708, 0.09827140718698502, 0.09946796298027039, 0.10040611028671265, 0.10035878419876099, 0.09874480217695236, 0.09969177842140198, 0.09924569725990295, 0.1000741496682167, 0.10104747861623764, 0.10119938105344772, 0.09978391975164413, 0.09960945695638657, 0.10044246166944504, 0.09972870349884033, 0.09917690604925156, 0.09969452023506165, 0.09890048205852509, 0.10067436844110489, 0.10116992145776749, 0.10196354985237122, 0.09863869100809097, 0.09944552183151245, 0.1003672257065773, 0.10026748478412628, 0.09887824207544327, 0.10048496723175049, 0.09819886833429337, 0.0962226390838623, 0.09995204955339432, 0.10170890390872955, 0.10505055636167526, 0.09762983024120331, 0.10106901079416275, 0.1001322939991951, 0.09955080598592758, 0.0994170680642128, 0.0977846309542656, 0.10161621123552322, 0.10152438282966614, 0.10502604395151138, 0.09697587043046951, 0.09826907515525818, 0.10117658227682114, 0.10125617682933807, 0.09695400297641754, 0.09947751462459564, 0.09744589030742645, 0.10170146077871323, 0.10165181010961533, 0.10580842941999435, 0.0967518538236618, 0.09794536232948303, 0.10141920298337936, 0.10137152671813965, 0.09642696380615234, 0.09978465735912323, 0.09855800867080688, 0.10002463310956955, 0.10064403712749481, 0.1024385541677475, 0.09961088001728058, 0.09889490902423859, 0.10095490515232086, 0.10060916841030121, 0.09848029166460037, 0.10033190995454788, 0.09866911917924881, 0.09892111271619797, 0.10008808970451355, 0.10089744627475739, 0.1007986068725586, 0.09930291026830673, 0.10026244074106216, 0.10097955912351608, 0.09974882751703262, 0.10062682628631592, 0.09788864850997925, 0.09792274981737137, 0.09927051514387131, 0.10191495716571808, 0.10300131887197495, 0.09791640937328339, 0.10206527262926102, 0.10075771063566208, 0.09863556176424026, 0.09986373037099838, 0.09861142188310623, 0.10003859549760818, 0.1005871444940567, 0.1025812029838562, 0.09951286017894745, 0.09875950217247009, 0.10089793801307678, 0.10072173178195953, 0.098425954580307]\n",
            "[1.0, 1.0, 1.0, 1.0, 1.0, 1.0, 1.0, 1.0, 1.0, 1.0, 1.0, 1.0, 1.0, 1.0, 1.0, 1.0]\n",
            "######\n"
          ]
        }
      ]
    },
    {
      "cell_type": "code",
      "source": [
        "outputs = [0, 1, 0, 0]\n",
        "targets = [0, 0, 1, 0]\n",
        "\n",
        "# Compare the maximum values of each corresponding pair\n",
        "results = [1 if max(o, t) == min(o, t) else 0 for o, t in zip(outputs, targets)]\n",
        "print(results)\n",
        "\n",
        "accuracy = np.mean(results)\n",
        "print(accuracy)"
      ],
      "metadata": {
        "colab": {
          "base_uri": "https://localhost:8080/"
        },
        "id": "Bx1POaK7Lk3c",
        "outputId": "4cc7bc91-ccc0-456a-b1b6-e473aa465168"
      },
      "execution_count": 117,
      "outputs": [
        {
          "output_type": "stream",
          "name": "stdout",
          "text": [
            "[1, 0, 0, 1]\n",
            "0.5\n"
          ]
        }
      ]
    },
    {
      "cell_type": "code",
      "source": [
        "max_prob = max(output)\n",
        "min_prob = min(output)\n",
        "\n",
        "print(max_prob)\n",
        "print(min_prob)"
      ],
      "metadata": {
        "colab": {
          "base_uri": "https://localhost:8080/"
        },
        "id": "1TTVPhhbGxf4",
        "outputId": "15efd48e-b536-4edc-d874-b315af803ced"
      },
      "execution_count": 95,
      "outputs": [
        {
          "output_type": "stream",
          "name": "stdout",
          "text": [
            "0.10527816414833069\n",
            "0.0962226390838623\n"
          ]
        }
      ]
    },
    {
      "cell_type": "code",
      "source": [
        "threshold = 0.099\n",
        "output_binary = [1 if prob >= threshold else 0 for prob in output]\n",
        "\n",
        "print(output_binary)"
      ],
      "metadata": {
        "colab": {
          "base_uri": "https://localhost:8080/"
        },
        "id": "bvgapA7RFOXi",
        "outputId": "4c7090e2-5aaa-4dcf-c0a3-38a4aef6a889"
      },
      "execution_count": 98,
      "outputs": [
        {
          "output_type": "stream",
          "name": "stdout",
          "text": [
            "[1, 0, 0, 0, 1, 1, 0, 1, 1, 1, 1, 0, 1, 1, 1, 0, 0, 1, 1, 0, 1, 0, 1, 1, 1, 0, 0, 1, 1, 0, 1, 1, 1, 1, 1, 1, 1, 1, 1, 1, 1, 0, 1, 1, 1, 0, 0, 1, 1, 0, 1, 0, 1, 1, 1, 0, 1, 1, 1, 0, 1, 0, 0, 1, 1, 1, 0, 1, 1, 0, 1, 0, 1, 1, 1, 1, 0, 1, 1, 0, 1, 0, 1, 1, 1, 1, 0, 1, 1, 1, 1, 0, 0, 1, 1, 1, 0, 1, 1, 0, 1, 1, 1, 1, 1, 0, 1, 1, 1, 0, 1, 0, 0, 1, 1, 1, 0, 1, 1, 1, 1, 0, 1, 1, 1, 0, 0, 1, 1, 0, 1, 0, 1, 1, 1, 0, 0, 1, 1, 0, 1, 0, 0, 1, 1, 1, 0, 1, 1, 0, 1, 1, 1, 1, 1, 1, 1, 1, 1, 1]\n"
          ]
        }
      ]
    },
    {
      "cell_type": "code",
      "source": [
        "np.argmax(output) == np.argmax(target)"
      ],
      "metadata": {
        "colab": {
          "base_uri": "https://localhost:8080/"
        },
        "id": "FelJmS_43V47",
        "outputId": "30bb681c-6ab6-4d4b-f7ca-1a1904701aa2"
      },
      "execution_count": 103,
      "outputs": [
        {
          "output_type": "execute_result",
          "data": {
            "text/plain": [
              "False"
            ]
          },
          "metadata": {},
          "execution_count": 103
        }
      ]
    },
    {
      "cell_type": "code",
      "source": [
        "# plt.plot(mean_loss,'k')\n",
        "plt.plot(mean_test_loss,'r')"
      ],
      "metadata": {
        "colab": {
          "base_uri": "https://localhost:8080/",
          "height": 447
        },
        "id": "nha_xjQ2Tu_J",
        "outputId": "5bd7cf78-2c99-4c1c-d47f-7a84f7dfe71a"
      },
      "execution_count": null,
      "outputs": [
        {
          "output_type": "execute_result",
          "data": {
            "text/plain": [
              "[<matplotlib.lines.Line2D at 0x7b7e325794b0>]"
            ]
          },
          "metadata": {},
          "execution_count": 9
        },
        {
          "output_type": "display_data",
          "data": {
            "text/plain": [
              "<Figure size 640x480 with 1 Axes>"
            ],
            "image/png": "[encoded data removed]"
          },
          "metadata": {}
        }
      ]
    },
    {
      "cell_type": "code",
      "source": [
        "## save a model\n",
        "torch.save(model.state_dict(), 'model.pt')"
      ],
      "metadata": {
        "id": "8iE1rLF6YXvg"
      },
      "execution_count": null,
      "outputs": []
    },
    {
      "cell_type": "code",
      "source": [
        "## load saved model\n",
        "model_arch = my_first_nn(input_d,output_d)\n",
        "model_arch.load_state_dict(torch.load('model.pt'))\n",
        "model_arch.eval()"
      ],
      "metadata": {
        "colab": {
          "base_uri": "https://localhost:8080/",
          "height": 193
        },
        "id": "ivfd13XRXTeF",
        "outputId": "aea9b561-b59d-4675-b944-cce21c1cf1ba"
      },
      "execution_count": null,
      "outputs": [
        {
          "output_type": "error",
          "ename": "NameError",
          "evalue": "name 'input_d' is not defined",
          "traceback": [
            "\u001b[0;31m---------------------------------------------------------------------------\u001b[0m",
            "\u001b[0;31mNameError\u001b[0m                                 Traceback (most recent call last)",
            "\u001b[0;32m<ipython-input-54-56eef4300946>\u001b[0m in \u001b[0;36m<cell line: 2>\u001b[0;34m()\u001b[0m\n\u001b[1;32m      1\u001b[0m \u001b[0;31m## load saved model\u001b[0m\u001b[0;34m\u001b[0m\u001b[0;34m\u001b[0m\u001b[0m\n\u001b[0;32m----> 2\u001b[0;31m \u001b[0mmodel_arch\u001b[0m \u001b[0;34m=\u001b[0m \u001b[0mmy_first_nn\u001b[0m\u001b[0;34m(\u001b[0m\u001b[0minput_d\u001b[0m\u001b[0;34m,\u001b[0m\u001b[0moutput_d\u001b[0m\u001b[0;34m)\u001b[0m\u001b[0;34m\u001b[0m\u001b[0;34m\u001b[0m\u001b[0m\n\u001b[0m\u001b[1;32m      3\u001b[0m \u001b[0mmodel_arch\u001b[0m\u001b[0;34m.\u001b[0m\u001b[0mload_state_dict\u001b[0m\u001b[0;34m(\u001b[0m\u001b[0mtorch\u001b[0m\u001b[0;34m.\u001b[0m\u001b[0mload\u001b[0m\u001b[0;34m(\u001b[0m\u001b[0;34m'model.pt'\u001b[0m\u001b[0;34m)\u001b[0m\u001b[0;34m)\u001b[0m\u001b[0;34m\u001b[0m\u001b[0;34m\u001b[0m\u001b[0m\n\u001b[1;32m      4\u001b[0m \u001b[0mmodel_arch\u001b[0m\u001b[0;34m.\u001b[0m\u001b[0meval\u001b[0m\u001b[0;34m(\u001b[0m\u001b[0;34m)\u001b[0m\u001b[0;34m\u001b[0m\u001b[0;34m\u001b[0m\u001b[0m\n",
            "\u001b[0;31mNameError\u001b[0m: name 'input_d' is not defined"
          ]
        }
      ]
    },
    {
      "cell_type": "code",
      "source": [
        "bs = 5000\n",
        "mu = traffic_obj_test.df['occupancy'].mean()\n",
        "std = traffic_obj_test.df['occupancy'].mean()\n",
        "dataloader = DataLoader(traffic_obj_test, batch_size=bs, shuffle=False, num_workers=4,drop_last=True)\n",
        "pred_obj = Predict(model_arch,mu,std)\n",
        "pred_output = pred_obj(dataloader)"
      ],
      "metadata": {
        "id": "8oLBsRsKUWv7",
        "colab": {
          "base_uri": "https://localhost:8080/",
          "height": 211
        },
        "outputId": "e2f3d27d-24e6-46df-ad27-0aa07e3d5167"
      },
      "execution_count": null,
      "outputs": [
        {
          "output_type": "error",
          "ename": "NameError",
          "evalue": "name 'traffic_obj_test' is not defined",
          "traceback": [
            "\u001b[0;31m---------------------------------------------------------------------------\u001b[0m",
            "\u001b[0;31mNameError\u001b[0m                                 Traceback (most recent call last)",
            "\u001b[0;32m<ipython-input-55-fe805822d4a7>\u001b[0m in \u001b[0;36m<cell line: 2>\u001b[0;34m()\u001b[0m\n\u001b[1;32m      1\u001b[0m \u001b[0mbs\u001b[0m \u001b[0;34m=\u001b[0m \u001b[0;36m5000\u001b[0m\u001b[0;34m\u001b[0m\u001b[0;34m\u001b[0m\u001b[0m\n\u001b[0;32m----> 2\u001b[0;31m \u001b[0mmu\u001b[0m \u001b[0;34m=\u001b[0m \u001b[0mtraffic_obj_test\u001b[0m\u001b[0;34m.\u001b[0m\u001b[0mdf\u001b[0m\u001b[0;34m[\u001b[0m\u001b[0;34m'occupancy'\u001b[0m\u001b[0;34m]\u001b[0m\u001b[0;34m.\u001b[0m\u001b[0mmean\u001b[0m\u001b[0;34m(\u001b[0m\u001b[0;34m)\u001b[0m\u001b[0;34m\u001b[0m\u001b[0;34m\u001b[0m\u001b[0m\n\u001b[0m\u001b[1;32m      3\u001b[0m \u001b[0mstd\u001b[0m \u001b[0;34m=\u001b[0m \u001b[0mtraffic_obj_test\u001b[0m\u001b[0;34m.\u001b[0m\u001b[0mdf\u001b[0m\u001b[0;34m[\u001b[0m\u001b[0;34m'occupancy'\u001b[0m\u001b[0;34m]\u001b[0m\u001b[0;34m.\u001b[0m\u001b[0mmean\u001b[0m\u001b[0;34m(\u001b[0m\u001b[0;34m)\u001b[0m\u001b[0;34m\u001b[0m\u001b[0;34m\u001b[0m\u001b[0m\n\u001b[1;32m      4\u001b[0m \u001b[0mdataloader\u001b[0m \u001b[0;34m=\u001b[0m \u001b[0mDataLoader\u001b[0m\u001b[0;34m(\u001b[0m\u001b[0mtraffic_obj_test\u001b[0m\u001b[0;34m,\u001b[0m \u001b[0mbatch_size\u001b[0m\u001b[0;34m=\u001b[0m\u001b[0mbs\u001b[0m\u001b[0;34m,\u001b[0m \u001b[0mshuffle\u001b[0m\u001b[0;34m=\u001b[0m\u001b[0;32mFalse\u001b[0m\u001b[0;34m,\u001b[0m \u001b[0mnum_workers\u001b[0m\u001b[0;34m=\u001b[0m\u001b[0;36m4\u001b[0m\u001b[0;34m,\u001b[0m\u001b[0mdrop_last\u001b[0m\u001b[0;34m=\u001b[0m\u001b[0;32mTrue\u001b[0m\u001b[0;34m)\u001b[0m\u001b[0;34m\u001b[0m\u001b[0;34m\u001b[0m\u001b[0m\n\u001b[1;32m      5\u001b[0m \u001b[0mpred_obj\u001b[0m \u001b[0;34m=\u001b[0m \u001b[0mPredict\u001b[0m\u001b[0;34m(\u001b[0m\u001b[0mmodel_arch\u001b[0m\u001b[0;34m,\u001b[0m\u001b[0mmu\u001b[0m\u001b[0;34m,\u001b[0m\u001b[0mstd\u001b[0m\u001b[0;34m)\u001b[0m\u001b[0;34m\u001b[0m\u001b[0;34m\u001b[0m\u001b[0m\n",
            "\u001b[0;31mNameError\u001b[0m: name 'traffic_obj_test' is not defined"
          ]
        }
      ]
    },
    {
      "cell_type": "code",
      "source": [
        "pred_output.keys()"
      ],
      "metadata": {
        "colab": {
          "base_uri": "https://localhost:8080/"
        },
        "id": "wvF9zfaAX1cU",
        "outputId": "52c85b51-808f-4a49-f0d4-7a4f3a75f70d"
      },
      "execution_count": null,
      "outputs": [
        {
          "output_type": "execute_result",
          "data": {
            "text/plain": [
              "dict_keys(['preds', 'targets', 'pred_denorm', 'target_denorm', 'mape'])"
            ]
          },
          "metadata": {},
          "execution_count": 9
        }
      ]
    },
    {
      "cell_type": "code",
      "source": [
        "pred_output['mape']"
      ],
      "metadata": {
        "colab": {
          "base_uri": "https://localhost:8080/"
        },
        "id": "r28ZlRZBX2ri",
        "outputId": "6711602c-f76f-4ebf-8fb2-bf8e17c84886"
      },
      "execution_count": null,
      "outputs": [
        {
          "output_type": "execute_result",
          "data": {
            "text/plain": [
              "0.2302649193979098"
            ]
          },
          "metadata": {},
          "execution_count": 10
        }
      ]
    },
    {
      "cell_type": "code",
      "source": [
        "plt.scatter(pred_output['pred_denorm'][0:30000],pred_output['target_denorm'][0:30000])"
      ],
      "metadata": {
        "colab": {
          "base_uri": "https://localhost:8080/",
          "height": 447
        },
        "id": "xv0DAkuqX_j8",
        "outputId": "b88d54d3-06fc-4ff5-9f7f-4a038d842eca"
      },
      "execution_count": null,
      "outputs": [
        {
          "output_type": "execute_result",
          "data": {
            "text/plain": [
              "<matplotlib.collections.PathCollection at 0x79a0a46f1d20>"
            ]
          },
          "metadata": {},
          "execution_count": 13
        },
        {
          "output_type": "display_data",
          "data": {
            "text/plain": [
              "<Figure size 640x480 with 1 Axes>"
            ],
            "image/png": "[encoded data removed]"
          },
          "metadata": {}
        }
      ]
    },
    {
      "cell_type": "code",
      "source": [
        "plt.plot(pred_output['pred_denorm'][0:100],'r')\n",
        "plt.plot(pred_output['target_denorm'][0:100],'k')"
      ],
      "metadata": {
        "colab": {
          "base_uri": "https://localhost:8080/",
          "height": 447
        },
        "id": "R19cP56jaGKa",
        "outputId": "a66ac340-43f8-407d-8ba8-7338d8f689de"
      },
      "execution_count": null,
      "outputs": [
        {
          "output_type": "execute_result",
          "data": {
            "text/plain": [
              "[<matplotlib.lines.Line2D at 0x79a0a44b7580>]"
            ]
          },
          "metadata": {},
          "execution_count": 17
        },
        {
          "output_type": "display_data",
          "data": {
            "text/plain": [
              "<Figure size 640x480 with 1 Axes>"
            ],
            "image/png": "[encoded data removed]"
          },
          "metadata": {}
        }
      ]
    },
    {
      "cell_type": "code",
      "source": [],
      "metadata": {
        "id": "I1KtGnDmaH8U"
      },
      "execution_count": null,
      "outputs": []
    }
  ]
}